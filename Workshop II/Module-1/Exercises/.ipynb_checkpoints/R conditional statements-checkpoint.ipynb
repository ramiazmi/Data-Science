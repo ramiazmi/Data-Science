{
 "cells": [
  {
   "cell_type": "markdown",
   "metadata": {},
   "source": [
    "# Conditional Statements Exercises - Solutions\n",
    "For these exercises, use what you have learned about if,else if, and else statements to answer the questions! The first exercise is done for you as an example:\n",
    "\n",
    "**Example: Write a script that prints \"Hello\" if the variable x is equal to 1:**"
   ]
  },
  {
   "cell_type": "code",
   "execution_count": 1,
   "metadata": {
    "collapsed": false
   },
   "outputs": [
    {
     "name": "stdout",
     "output_type": "stream",
     "text": [
      "[1] \"Hello\"\n"
     ]
    }
   ],
   "source": [
    "x <- 1\n",
    "\n",
    "if (x ==1){\n",
    "    print(\"Hello\")\n",
    "}"
   ]
  },
  {
   "cell_type": "markdown",
   "metadata": {},
   "source": [
    "## Exercise Problems\n",
    "**Ex 1: Write a script that will print \"Even Number\" if the variable x is an even number, otherwise print \"Not Even\":**"
   ]
  },
  {
   "cell_type": "code",
   "execution_count": 2,
   "metadata": {
    "collapsed": true
   },
   "outputs": [],
   "source": [
    "x <- 3 # Change x to test"
   ]
  },
  {
   "cell_type": "markdown",
   "metadata": {},
   "source": [
    "**Ex 2: Write a script that will print 'Is a Matrix' if the variable x is a matrix, otherwise print \"Not a Matrix\". Hint: You may want to check out help(is.matrix)**"
   ]
  },
  {
   "cell_type": "code",
   "execution_count": 16,
   "metadata": {
    "collapsed": false
   },
   "outputs": [
    {
     "name": "stdout",
     "output_type": "stream",
     "text": [
      "[1] \"Is a Matrix\"\n"
     ]
    }
   ],
   "source": [
    "x <- matrix()\n",
    "if (is.matrix(x)) {\n",
    "    print(\"Is a Matrix\")\n",
    "} else{\n",
    "    print(\"Not a Matrix\")\n",
    "}"
   ]
  },
  {
   "cell_type": "markdown",
   "metadata": {},
   "source": [
    "**Ex 3: Create a script that given a numeric vector x with a length 3, will print out the elements in order from high to low. You must use if,else if, and else statements for your logic. (This code will be relatively long)**"
   ]
  },
  {
   "cell_type": "code",
   "execution_count": 28,
   "metadata": {
    "collapsed": false
   },
   "outputs": [
    {
     "data": {
      "text/html": [
       "<ol class=list-inline>\n",
       "\t<li>7</li>\n",
       "\t<li>3</li>\n",
       "\t<li>1</li>\n",
       "</ol>\n"
      ],
      "text/latex": [
       "\\begin{enumerate*}\n",
       "\\item 7\n",
       "\\item 3\n",
       "\\item 1\n",
       "\\end{enumerate*}\n"
      ],
      "text/markdown": [
       "1. 7\n",
       "2. 3\n",
       "3. 1\n",
       "\n",
       "\n"
      ],
      "text/plain": [
       "[1] 7 3 1"
      ]
     },
     "metadata": {},
     "output_type": "display_data"
    }
   ],
   "source": [
    "x <- c(3,7,1)\n",
    "n <- length(x)\n",
    "for(i in 1:(n-1)){\n",
    "    for(j in 1:(n-i)){\n",
    "      if(x[j]<x[j+1]){\n",
    "        temp <- x[j]\n",
    "        x[j] <- x[j+1]\n",
    "        x[j+1] <- temp\n",
    "      }\n",
    "    }\n",
    "  }\n",
    "x"
   ]
  },
  {
   "cell_type": "markdown",
   "metadata": {},
   "source": [
    "**Ex 4: Write a script that uses if,else if, and else statements to print the max element in a numeric vector with 3 elements.**"
   ]
  },
  {
   "cell_type": "code",
   "execution_count": 37,
   "metadata": {
    "collapsed": false
   },
   "outputs": [
    {
     "data": {
      "text/html": [
       "20"
      ],
      "text/latex": [
       "20"
      ],
      "text/markdown": [
       "20"
      ],
      "text/plain": [
       "[1] 20"
      ]
     },
     "metadata": {},
     "output_type": "display_data"
    }
   ],
   "source": [
    "x <- c(20, 10, 1)\n",
    "n <- length(x)\n",
    "for(i in 1:(n-1)){\n",
    "    for(j in 1:(n-i)){\n",
    "      if(x[j]<x[j+1]){\n",
    "        temp <- x[j]\n",
    "        x[j] <- x[j+1]\n",
    "        x[j+1] <- temp\n",
    "      }\n",
    "    }\n",
    "  }\n",
    "x[1]"
   ]
  }
 ],
 "metadata": {
  "kernelspec": {
   "display_name": "R",
   "language": "R",
   "name": "ir"
  },
  "language_info": {
   "codemirror_mode": "r",
   "file_extension": ".r",
   "mimetype": "text/x-r-source",
   "name": "R",
   "pygments_lexer": "r",
   "version": "3.3.2"
  }
 },
 "nbformat": 4,
 "nbformat_minor": 2
}
