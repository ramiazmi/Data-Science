{
 "cells": [
  {
   "cell_type": "markdown",
   "metadata": {},
   "source": [
    "## R Basics Exercise\n",
    "We will test you on a few topics:\n",
    "* Basic Data Types\n",
    "* Basic Arithmetic\n",
    "* Vector\n",
    "* Vector Operations\n",
    "* Comparison operators\n",
    "* Vector Selection and Indexing\n",
    "\n",
    "The exercises below should be straightforward if you've reviewed the lecture, don't expect something very challenging yet, this is more of a review to make sure you've understood everything so far! Later on exercises/projects will be more challenging (and a lot more fun!)"
   ]
  },
  {
   "cell_type": "markdown",
   "metadata": {},
   "source": [
    "### Solve the following problems using R\n",
    "What is two to the power of five?"
   ]
  },
  {
   "cell_type": "code",
   "execution_count": 1,
   "metadata": {
    "collapsed": false
   },
   "outputs": [
    {
     "data": {
      "text/html": [
       "32"
      ],
      "text/latex": [
       "32"
      ],
      "text/markdown": [
       "32"
      ],
      "text/plain": [
       "[1] 32"
      ]
     },
     "metadata": {},
     "output_type": "display_data"
    }
   ],
   "source": [
    "2^5"
   ]
  },
  {
   "cell_type": "markdown",
   "metadata": {},
   "source": [
    "Create a vector called stock.prices with the following data points: 23,27,23,21,34"
   ]
  },
  {
   "cell_type": "code",
   "execution_count": 12,
   "metadata": {
    "collapsed": true
   },
   "outputs": [],
   "source": [
    "vec <- c(23,27,23,21,34)"
   ]
  },
  {
   "cell_type": "markdown",
   "metadata": {},
   "source": [
    "Assign names to the price data points relating to the day of the week, starting with Mon, Tue, Wed, etc..."
   ]
  },
  {
   "cell_type": "code",
   "execution_count": 13,
   "metadata": {
    "collapsed": false
   },
   "outputs": [
    {
     "data": {
      "text/html": [
       "<dl class=dl-horizontal>\n",
       "\t<dt>Mon</dt>\n",
       "\t\t<dd>23</dd>\n",
       "\t<dt>Tue</dt>\n",
       "\t\t<dd>27</dd>\n",
       "\t<dt>Wed</dt>\n",
       "\t\t<dd>23</dd>\n",
       "\t<dt>Thu</dt>\n",
       "\t\t<dd>21</dd>\n",
       "\t<dt>Fri</dt>\n",
       "\t\t<dd>34</dd>\n",
       "</dl>\n"
      ],
      "text/latex": [
       "\\begin{description*}\n",
       "\\item[Mon] 23\n",
       "\\item[Tue] 27\n",
       "\\item[Wed] 23\n",
       "\\item[Thu] 21\n",
       "\\item[Fri] 34\n",
       "\\end{description*}\n"
      ],
      "text/markdown": [
       "Mon\n",
       ":   23Tue\n",
       ":   27Wed\n",
       ":   23Thu\n",
       ":   21Fri\n",
       ":   34\n",
       "\n"
      ],
      "text/plain": [
       "Mon Tue Wed Thu Fri \n",
       " 23  27  23  21  34 "
      ]
     },
     "metadata": {},
     "output_type": "display_data"
    }
   ],
   "source": [
    "days <- c('Mon','Tue','Wed','Thu','Fri')\n",
    "names(vec) <- days\n",
    "vec"
   ]
  },
  {
   "cell_type": "markdown",
   "metadata": {},
   "source": [
    "What was the average (mean) stock price for the week? (You may need to reference a built-in function)"
   ]
  },
  {
   "cell_type": "code",
   "execution_count": 14,
   "metadata": {
    "collapsed": false
   },
   "outputs": [
    {
     "data": {
      "text/html": [
       "25.6"
      ],
      "text/latex": [
       "25.6"
      ],
      "text/markdown": [
       "25.6"
      ],
      "text/plain": [
       "[1] 25.6"
      ]
     },
     "metadata": {},
     "output_type": "display_data"
    }
   ],
   "source": [
    "avg <- mean(vec)\n",
    "avg"
   ]
  },
  {
   "cell_type": "markdown",
   "metadata": {},
   "source": [
    "Create a vector called over.23 consisting of logicals that correspond to the days where the stock price was more than $23"
   ]
  },
  {
   "cell_type": "code",
   "execution_count": 16,
   "metadata": {
    "collapsed": false
   },
   "outputs": [
    {
     "data": {
      "text/html": [
       "<dl class=dl-horizontal>\n",
       "\t<dt>Mon</dt>\n",
       "\t\t<dd>FALSE</dd>\n",
       "\t<dt>Tue</dt>\n",
       "\t\t<dd>TRUE</dd>\n",
       "\t<dt>Wed</dt>\n",
       "\t\t<dd>FALSE</dd>\n",
       "\t<dt>Thu</dt>\n",
       "\t\t<dd>FALSE</dd>\n",
       "\t<dt>Fri</dt>\n",
       "\t\t<dd>TRUE</dd>\n",
       "</dl>\n"
      ],
      "text/latex": [
       "\\begin{description*}\n",
       "\\item[Mon] FALSE\n",
       "\\item[Tue] TRUE\n",
       "\\item[Wed] FALSE\n",
       "\\item[Thu] FALSE\n",
       "\\item[Fri] TRUE\n",
       "\\end{description*}\n"
      ],
      "text/markdown": [
       "Mon\n",
       ":   FALSETue\n",
       ":   TRUEWed\n",
       ":   FALSEThu\n",
       ":   FALSEFri\n",
       ":   TRUE\n",
       "\n"
      ],
      "text/plain": [
       "  Mon   Tue   Wed   Thu   Fri \n",
       "FALSE  TRUE FALSE FALSE  TRUE "
      ]
     },
     "metadata": {},
     "output_type": "display_data"
    }
   ],
   "source": [
    "vec > 23"
   ]
  },
  {
   "cell_type": "markdown",
   "metadata": {},
   "source": [
    "Use the over.23 vector to filter out the stock.prices vector and only return the day and prices where the price was over $23"
   ]
  },
  {
   "cell_type": "code",
   "execution_count": 17,
   "metadata": {
    "collapsed": false
   },
   "outputs": [
    {
     "data": {
      "text/html": [
       "<dl class=dl-horizontal>\n",
       "\t<dt>Tue</dt>\n",
       "\t\t<dd>27</dd>\n",
       "\t<dt>Fri</dt>\n",
       "\t\t<dd>34</dd>\n",
       "</dl>\n"
      ],
      "text/latex": [
       "\\begin{description*}\n",
       "\\item[Tue] 27\n",
       "\\item[Fri] 34\n",
       "\\end{description*}\n"
      ],
      "text/markdown": [
       "Tue\n",
       ":   27Fri\n",
       ":   34\n",
       "\n"
      ],
      "text/plain": [
       "Tue Fri \n",
       " 27  34 "
      ]
     },
     "metadata": {},
     "output_type": "display_data"
    }
   ],
   "source": [
    "over.23 <- vec[vec > 23]\n",
    "over.23"
   ]
  },
  {
   "cell_type": "markdown",
   "metadata": {},
   "source": [
    "Use a built-in function to find the day the price was the highest"
   ]
  },
  {
   "cell_type": "code",
   "execution_count": 26,
   "metadata": {
    "collapsed": false
   },
   "outputs": [
    {
     "data": {
      "text/html": [
       "<strong>Fri:</strong> 34"
      ],
      "text/latex": [
       "\\textbf{Fri:} 34"
      ],
      "text/markdown": [
       "**Fri:** 34"
      ],
      "text/plain": [
       "Fri \n",
       " 34 "
      ]
     },
     "metadata": {},
     "output_type": "display_data"
    }
   ],
   "source": [
    "vec[vec==max(vec)]"
   ]
  },
  {
   "cell_type": "markdown",
   "metadata": {},
   "source": [
    "Okay that's it for the exercise on the basics! Great job!"
   ]
  }
 ],
 "metadata": {
  "anaconda-cloud": {},
  "kernelspec": {
   "display_name": "R",
   "language": "R",
   "name": "ir"
  },
  "language_info": {
   "codemirror_mode": "r",
   "file_extension": ".r",
   "mimetype": "text/x-r-source",
   "name": "R",
   "pygments_lexer": "r",
   "version": "3.3.2"
  }
 },
 "nbformat": 4,
 "nbformat_minor": 2
}
