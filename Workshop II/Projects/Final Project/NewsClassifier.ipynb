{
 "cells": [
  {
   "cell_type": "markdown",
   "metadata": {},
   "source": [
    "<h1 style=\"text-align: center;\">Natural Language Proceswing: News Classifier</h1>\n",
    "\n",
    "<br>\n",
    "<div style=\"display:inline;\"> By:\n",
    "<ul style=\"display: inline;\">\n",
    "<li style=\"display: inline;\"><a href=\"https://github.com/am2en\" target=\"_blank\">Ameen Taha</a></li>\n",
    ", <li style=\"display: inline;\"><a href=\"https://github.com/saebghazal\" target=\"_blank\">Saeb Ghazal</a></li>\n",
    ", <li style=\"display: inline;\"><a href=\"https://github.com/ramiazmi\" target=\"_blank\">Rami Tailakh</a></li>\n",
    "</ul>\n",
    "</div>\n",
    "\n",
    "\n",
    "## Introduction:\n",
    "In the past few years, data has been increased dramatically. Majority of data is unstructured, and text data is viewed as unstructured as well; from the computer perspective. That is, text data is (a large volume) set words, and these words contain alphabetical letters, numbers and special characters, in addition, it can contain both single-byte and multi-byte characters. As a result, text analysis is one of the important applications for many businesses and organizations, nowadays. \n",
    "\n",
    "Text data is employed in many domains; social media, news stories, customer reviews, emails, documents and many more. However, this type of data can be difficult to analyze. This is because each text is witten in a specific language, thereby, analyzing a text could differ from one language to another. Moreover, A word in a specific language can give different meanings, and more challenging, languages adapt according to cultures and there could be some differences in using and writing words from one geographic area to another for the same language.\n",
    "\n",
    "Natural Language Processing (NLP) is the field of study that is concerned with the interactions between human language and computing machine. NLP, in other words, NLP is to enable a computerized program to understand human language to an accepted level. In this piece of work, we will apply NLP techniques on news stories aiming to classify the category of news articles.  \n",
    "\n",
    "\n",
    "\n",
    "# Goal:\n",
    "In this project, we will employ some machine learning models in order to build a classifier for news stories. The job of this classifier specifically is to predict the category (health, technology, etc.) of a news story given only its titele."
   ]
  },
  {
   "cell_type": "code",
   "execution_count": 1,
   "metadata": {
    "collapsed": true
   },
   "outputs": [],
   "source": [
    "# This code is to disable warnings that may display this notebook a liitle bit \"ugly\"\n",
    "import warnings\n",
    "warnings.filterwarnings('ignore')"
   ]
  },
  {
   "cell_type": "markdown",
   "metadata": {},
   "source": [
    "# Imports\n",
    "Here, all required packages in this project will be imported."
   ]
  },
  {
   "cell_type": "code",
   "execution_count": 2,
   "metadata": {
    "collapsed": false
   },
   "outputs": [
    {
     "name": "stderr",
     "output_type": "stream",
     "text": [
      "C:\\Program Files\\Anaconda3\\lib\\site-packages\\sklearn\\cross_validation.py:44: DeprecationWarning: This module was deprecated in version 0.18 in favor of the model_selection module into which all the refactored classes and functions are moved. Also note that the interface of the new CV iterators are different from that of this module. This module will be removed in 0.20.\n",
      "  \"This module will be removed in 0.20.\", DeprecationWarning)\n",
      "C:\\Program Files\\Anaconda3\\lib\\site-packages\\sklearn\\learning_curve.py:23: DeprecationWarning: This module was deprecated in version 0.18 in favor of the model_selection module into which all the functions are moved. This module will be removed in 0.20\n",
      "  DeprecationWarning)\n"
     ]
    }
   ],
   "source": [
    "import numpy as np\n",
    "import pandas as pd\n",
    "import seaborn as sns\n",
    "import matplotlib.pyplot as plt\n",
    "\n",
    "from sklearn.metrics import classification_report\n",
    "\n",
    "from sklearn.feature_extraction.text import CountVectorizer\n",
    "from sklearn.feature_extraction.text import TfidfTransformer, TfidfVectorizer\n",
    "from sklearn.model_selection import cross_val_score, KFold, train_test_split\n",
    "\n",
    "from sklearn.pipeline import Pipeline\n",
    "\n",
    "from nltk.corpus import stopwords\n",
    "\n",
    "import string\n",
    "\n",
    "from sklearn.learning_curve import learning_curve\n",
    "\n",
    "from ipywidgets import widgets\n",
    "from IPython.display import display\n",
    "from IPython.display import clear_output\n",
    "\n",
    "from collections import Counter\n",
    "\n",
    "import pickle\n",
    "\n",
    "import sys\n",
    "\n",
    "%matplotlib inline"
   ]
  },
  {
   "cell_type": "markdown",
   "metadata": {},
   "source": [
    "# Dataset:\n",
    "We will use the [News Data Set from Kaggle](https://www.kaggle.com/uciml/news-aggregator-dataset).\n",
    "This dataset contains headlines, publishers, URLs, and categories for 422,937 news articles. News categories included in this dataset include business; science and technology; entertainment; and health. \n",
    "\n",
    "### Get the Data\n",
    "\n",
    "The next code is to read the uci-news-aggregator.csv file and set it as a dataframe called news."
   ]
  },
  {
   "cell_type": "code",
   "execution_count": 3,
   "metadata": {
    "collapsed": false
   },
   "outputs": [],
   "source": [
    "news = pd.read_csv('uci-news-aggregator.csv')"
   ]
  },
  {
   "cell_type": "markdown",
   "metadata": {},
   "source": [
    "### Helper Functions\n",
    "These are the functions that will be used in this project."
   ]
  },
  {
   "cell_type": "code",
   "execution_count": 4,
   "metadata": {
    "collapsed": false
   },
   "outputs": [],
   "source": [
    "def count_words(str):\n",
    "    '''\n",
    "    This function is count the number of words in a given text.\n",
    "    '''\n",
    "    return len(str.split())"
   ]
  },
  {
   "cell_type": "code",
   "execution_count": 5,
   "metadata": {
    "collapsed": true
   },
   "outputs": [],
   "source": [
    "def text_process(mess):\n",
    "    \"\"\"\n",
    "    This function takes in a string of text, then performs the following:\n",
    "    1. Remove all punctuation\n",
    "    2. Remove all stopwords\n",
    "    3. Returns a list of the cleaned text\n",
    "    \"\"\"\n",
    "    # Check characters to see if they are in punctuation\n",
    "    nopunc = [char for char in mess if char not in string.punctuation]\n",
    "\n",
    "    # Join the characters again to form the string.\n",
    "    nopunc = ''.join(nopunc)\n",
    "    \n",
    "    # Now just remove any stopwords\n",
    "    stop_words = set(stopwords.words('english'))\n",
    "    stop_words.update(['2014', 'us','new','may']) # remove it if you need punctuation \n",
    "\n",
    "    return ' '.join(word for word in nopunc.split() if word.lower() not in stop_words)"
   ]
  },
  {
   "cell_type": "code",
   "execution_count": 6,
   "metadata": {
    "collapsed": false
   },
   "outputs": [],
   "source": [
    "def plot_learning_curve(estimator, title, X, y, ylim=None, cv=None,\n",
    "                        n_jobs=-1, train_sizes=np.linspace(.1, 1.0, 5)):\n",
    "    \"\"\"\n",
    "    This function is to generate a simple plot of the test and traning learning curve.\n",
    "    \"\"\"\n",
    "    plt.figure()\n",
    "    plt.title(title)\n",
    "    if ylim is not None:\n",
    "        plt.ylim(*ylim)\n",
    "    plt.xlabel(\"Training examples\")\n",
    "    plt.ylabel(\"Score\")\n",
    "    train_sizes, train_scores, test_scores = learning_curve(\n",
    "        estimator, X, y, cv=cv, n_jobs=n_jobs, train_sizes=train_sizes)\n",
    "    train_scores_mean = np.mean(train_scores, axis=1)\n",
    "    train_scores_std = np.std(train_scores, axis=1)\n",
    "    test_scores_mean = np.mean(test_scores, axis=1)\n",
    "    test_scores_std = np.std(test_scores, axis=1)\n",
    "    plt.grid()\n",
    "\n",
    "    plt.fill_between(train_sizes, train_scores_mean - train_scores_std,\n",
    "                     train_scores_mean + train_scores_std, alpha=0.1,\n",
    "                     color=\"r\")\n",
    "    plt.fill_between(train_sizes, test_scores_mean - test_scores_std,\n",
    "                     test_scores_mean + test_scores_std, alpha=0.1, color=\"g\")\n",
    "    plt.plot(train_sizes, train_scores_mean, 'o-', color=\"r\",\n",
    "             label=\"Training score\")\n",
    "    plt.plot(train_sizes, test_scores_mean, 'o-', color=\"g\",\n",
    "             label=\"Cross-validation score\")\n",
    "\n",
    "    plt.legend(loc=\"best\")\n",
    "    return plt"
   ]
  },
  {
   "cell_type": "code",
   "execution_count": 7,
   "metadata": {
    "collapsed": true
   },
   "outputs": [],
   "source": [
    "def normalize_text(p_message):\n",
    "    '''\n",
    "    This function will remove all stop words from a given text.\n",
    "    '''\n",
    "    nopunc = [char for char in p_message if char not in string.punctuation]\n",
    "    nopunc = ''.join(nopunc)\n",
    "    return ''.join(word.lower() for word in nopunc.split() if word not in stopwords.words('english'))  "
   ]
  },
  {
   "cell_type": "code",
   "execution_count": 8,
   "metadata": {
    "collapsed": true
   },
   "outputs": [],
   "source": [
    "def class_desc(p_class):\n",
    "    '''\n",
    "    This function is to return the description of CATEGORY.\n",
    "    '''\n",
    "    if p_class == 'b':\n",
    "        str = 'Business'\n",
    "    elif p_class == 't':\n",
    "        str = 'Science and Technology'\n",
    "    elif p_class == 'e':\n",
    "        str = 'Entertainment'\n",
    "    elif p_class == 'm':\n",
    "        str = 'Health'\n",
    "    else:\n",
    "        p_class = ''\n",
    "    \n",
    "    return str"
   ]
  },
  {
   "cell_type": "code",
   "execution_count": 9,
   "metadata": {
    "collapsed": true
   },
   "outputs": [],
   "source": [
    "def read_from_pickle(pickle_fname):\n",
    "    with open(pickle_fname+'.pickle', 'rb') as handle:\n",
    "        return pickle.load(handle)"
   ]
  },
  {
   "cell_type": "markdown",
   "metadata": {},
   "source": [
    "# EDA\n",
    "In this section, we are going to view the dataset structure and do some exploration analysis on the data."
   ]
  },
  {
   "cell_type": "code",
   "execution_count": 10,
   "metadata": {
    "collapsed": false
   },
   "outputs": [
    {
     "data": {
      "text/html": [
       "<div>\n",
       "<table border=\"1\" class=\"dataframe\">\n",
       "  <thead>\n",
       "    <tr style=\"text-align: right;\">\n",
       "      <th></th>\n",
       "      <th>ID</th>\n",
       "      <th>TITLE</th>\n",
       "      <th>URL</th>\n",
       "      <th>PUBLISHER</th>\n",
       "      <th>CATEGORY</th>\n",
       "      <th>STORY</th>\n",
       "      <th>HOSTNAME</th>\n",
       "      <th>TIMESTAMP</th>\n",
       "    </tr>\n",
       "  </thead>\n",
       "  <tbody>\n",
       "    <tr>\n",
       "      <th>0</th>\n",
       "      <td>1</td>\n",
       "      <td>Fed official says weak data caused by weather,...</td>\n",
       "      <td>http://www.latimes.com/business/money/la-fi-mo...</td>\n",
       "      <td>Los Angeles Times</td>\n",
       "      <td>b</td>\n",
       "      <td>ddUyU0VZz0BRneMioxUPQVP6sIxvM</td>\n",
       "      <td>www.latimes.com</td>\n",
       "      <td>1394470370698</td>\n",
       "    </tr>\n",
       "    <tr>\n",
       "      <th>1</th>\n",
       "      <td>2</td>\n",
       "      <td>Fed's Charles Plosser sees high bar for change...</td>\n",
       "      <td>http://www.livemint.com/Politics/H2EvwJSK2VE6O...</td>\n",
       "      <td>Livemint</td>\n",
       "      <td>b</td>\n",
       "      <td>ddUyU0VZz0BRneMioxUPQVP6sIxvM</td>\n",
       "      <td>www.livemint.com</td>\n",
       "      <td>1394470371207</td>\n",
       "    </tr>\n",
       "  </tbody>\n",
       "</table>\n",
       "</div>"
      ],
      "text/plain": [
       "   ID                                              TITLE  \\\n",
       "0   1  Fed official says weak data caused by weather,...   \n",
       "1   2  Fed's Charles Plosser sees high bar for change...   \n",
       "\n",
       "                                                 URL          PUBLISHER  \\\n",
       "0  http://www.latimes.com/business/money/la-fi-mo...  Los Angeles Times   \n",
       "1  http://www.livemint.com/Politics/H2EvwJSK2VE6O...           Livemint   \n",
       "\n",
       "  CATEGORY                          STORY          HOSTNAME      TIMESTAMP  \n",
       "0        b  ddUyU0VZz0BRneMioxUPQVP6sIxvM   www.latimes.com  1394470370698  \n",
       "1        b  ddUyU0VZz0BRneMioxUPQVP6sIxvM  www.livemint.com  1394470371207  "
      ]
     },
     "execution_count": 10,
     "metadata": {},
     "output_type": "execute_result"
    }
   ],
   "source": [
    "news.head(2)"
   ]
  },
  {
   "cell_type": "code",
   "execution_count": 11,
   "metadata": {
    "collapsed": false
   },
   "outputs": [
    {
     "name": "stdout",
     "output_type": "stream",
     "text": [
      "<class 'pandas.core.frame.DataFrame'>\n",
      "RangeIndex: 422419 entries, 0 to 422418\n",
      "Data columns (total 8 columns):\n",
      "ID           422419 non-null int64\n",
      "TITLE        422419 non-null object\n",
      "URL          422419 non-null object\n",
      "PUBLISHER    422417 non-null object\n",
      "CATEGORY     422419 non-null object\n",
      "STORY        422419 non-null object\n",
      "HOSTNAME     422419 non-null object\n",
      "TIMESTAMP    422419 non-null int64\n",
      "dtypes: int64(2), object(6)\n",
      "memory usage: 25.8+ MB\n"
     ]
    }
   ],
   "source": [
    "news.info()"
   ]
  },
  {
   "cell_type": "code",
   "execution_count": 12,
   "metadata": {
    "collapsed": false
   },
   "outputs": [
    {
     "data": {
      "text/html": [
       "<div>\n",
       "<table border=\"1\" class=\"dataframe\">\n",
       "  <thead>\n",
       "    <tr style=\"text-align: right;\">\n",
       "      <th></th>\n",
       "      <th>ID</th>\n",
       "      <th>TIMESTAMP</th>\n",
       "    </tr>\n",
       "  </thead>\n",
       "  <tbody>\n",
       "    <tr>\n",
       "      <th>count</th>\n",
       "      <td>422419.000000</td>\n",
       "      <td>4.224190e+05</td>\n",
       "    </tr>\n",
       "    <tr>\n",
       "      <th>mean</th>\n",
       "      <td>211536.764594</td>\n",
       "      <td>1.400445e+12</td>\n",
       "    </tr>\n",
       "    <tr>\n",
       "      <th>std</th>\n",
       "      <td>122102.839707</td>\n",
       "      <td>3.733088e+09</td>\n",
       "    </tr>\n",
       "    <tr>\n",
       "      <th>min</th>\n",
       "      <td>1.000000</td>\n",
       "      <td>1.394470e+12</td>\n",
       "    </tr>\n",
       "    <tr>\n",
       "      <th>25%</th>\n",
       "      <td>105801.500000</td>\n",
       "      <td>1.397349e+12</td>\n",
       "    </tr>\n",
       "    <tr>\n",
       "      <th>50%</th>\n",
       "      <td>211655.000000</td>\n",
       "      <td>1.399990e+12</td>\n",
       "    </tr>\n",
       "    <tr>\n",
       "      <th>75%</th>\n",
       "      <td>317273.500000</td>\n",
       "      <td>1.403775e+12</td>\n",
       "    </tr>\n",
       "    <tr>\n",
       "      <th>max</th>\n",
       "      <td>422937.000000</td>\n",
       "      <td>1.409229e+12</td>\n",
       "    </tr>\n",
       "  </tbody>\n",
       "</table>\n",
       "</div>"
      ],
      "text/plain": [
       "                  ID     TIMESTAMP\n",
       "count  422419.000000  4.224190e+05\n",
       "mean   211536.764594  1.400445e+12\n",
       "std    122102.839707  3.733088e+09\n",
       "min         1.000000  1.394470e+12\n",
       "25%    105801.500000  1.397349e+12\n",
       "50%    211655.000000  1.399990e+12\n",
       "75%    317273.500000  1.403775e+12\n",
       "max    422937.000000  1.409229e+12"
      ]
     },
     "execution_count": 12,
     "metadata": {},
     "output_type": "execute_result"
    }
   ],
   "source": [
    "news.describe()"
   ]
  },
  {
   "cell_type": "markdown",
   "metadata": {},
   "source": [
    "**Data Preprocessing**\n",
    "\n",
    "We are going to create a new column called <b>TITLE_LENGTH</b> which represents the number of words in the <b>TITLE</b> column which represents an article headline. This will, then, help do some EDA analytics."
   ]
  },
  {
   "cell_type": "code",
   "execution_count": 13,
   "metadata": {
    "collapsed": false
   },
   "outputs": [],
   "source": [
    "news['TITLE_LENGTH'] = news['TITLE'].apply(count_words)"
   ]
  },
  {
   "cell_type": "markdown",
   "metadata": {},
   "source": [
    "**Data Exploration**"
   ]
  },
  {
   "cell_type": "markdown",
   "metadata": {},
   "source": [
    "The following plot is to show the number of articles per each <b>CATEGORY</b>."
   ]
  },
  {
   "cell_type": "code",
   "execution_count": 14,
   "metadata": {
    "collapsed": false
   },
   "outputs": [
    {
     "data": {
      "text/plain": [
       "<matplotlib.axes._subplots.AxesSubplot at 0x1848bbe0>"
      ]
     },
     "execution_count": 14,
     "metadata": {},
     "output_type": "execute_result"
    },
    {
     "data": {
      "image/png": "[encoded data removed]",
      "text/plain": [
       "<matplotlib.figure.Figure at 0xdc27ef0>"
      ]
     },
     "metadata": {},
     "output_type": "display_data"
    }
   ],
   "source": [
    "sns.countplot(x=\"CATEGORY\", data=news)"
   ]
  },
  {
   "cell_type": "code",
   "execution_count": 15,
   "metadata": {
    "collapsed": false
   },
   "outputs": [
    {
     "data": {
      "text/plain": [
       "<seaborn.axisgrid.FacetGrid at 0xdc27dd8>"
      ]
     },
     "execution_count": 15,
     "metadata": {},
     "output_type": "execute_result"
    },
    {
     "data": {
      "image/png": "[encoded data removed]",
      "text/plain": [
       "<matplotlib.figure.Figure at 0xdc27a90>"
      ]
     },
     "metadata": {},
     "output_type": "display_data"
    }
   ],
   "source": [
    "g = sns.FacetGrid(news, col=\"CATEGORY\", sharey=True)  \n",
    "g.map(plt.hist, \"TITLE_LENGTH\", bins=np.linspace(1, 20, 10))"
   ]
  },
  {
   "cell_type": "markdown",
   "metadata": {},
   "source": [
    "The following is to plot a boxplot to show the distribution of word counts (using <b>TITLE_LENGTH</b> column) per each <b>CATEGORY<b>."
   ]
  },
  {
   "cell_type": "code",
   "execution_count": 16,
   "metadata": {
    "collapsed": false
   },
   "outputs": [
    {
     "data": {
      "text/plain": [
       "(0, 30)"
      ]
     },
     "execution_count": 16,
     "metadata": {},
     "output_type": "execute_result"
    },
    {
     "data": {
      "image/png": "[encoded data removed]",
      "text/plain": [
       "<matplotlib.figure.Figure at 0xe3872b0>"
      ]
     },
     "metadata": {},
     "output_type": "display_data"
    }
   ],
   "source": [
    "_= sns.boxplot(x='CATEGORY', y='TITLE_LENGTH', data = news)\n",
    "_.set_ylim(0,30)"
   ]
  },
  {
   "cell_type": "markdown",
   "metadata": {},
   "source": [
    "The following plot is to display the histogram according to the <b>TITLE</b> words count per each <b>CATEGORY</b>."
   ]
  },
  {
   "cell_type": "code",
   "execution_count": 17,
   "metadata": {
    "collapsed": false
   },
   "outputs": [
    {
     "data": {
      "text/plain": [
       "array([[<matplotlib.axes._subplots.AxesSubplot object at 0x000000000DCF28D0>,\n",
       "        <matplotlib.axes._subplots.AxesSubplot object at 0x0000000018E65550>],\n",
       "       [<matplotlib.axes._subplots.AxesSubplot object at 0x0000000018EAEA90>,\n",
       "        <matplotlib.axes._subplots.AxesSubplot object at 0x0000000018EEFA90>]], dtype=object)"
      ]
     },
     "execution_count": 17,
     "metadata": {},
     "output_type": "execute_result"
    },
    {
     "data": {
      "image/png": "[encoded data removed]",
      "text/plain": [
       "<matplotlib.figure.Figure at 0xe3897f0>"
      ]
     },
     "metadata": {},
     "output_type": "display_data"
    }
   ],
   "source": [
    "news.hist(column='TITLE_LENGTH', by='CATEGORY', bins=range(0, 20,2),figsize=(14,11), sharey=True)"
   ]
  },
  {
   "cell_type": "markdown",
   "metadata": {},
   "source": [
    "**Words Representation**\n",
    "\n",
    "The following code is show the most representative words per each <b>CATEGORY</b>. While the following code will plot the most representative words per each <b>CATEGORY</b>."
   ]
  },
  {
   "cell_type": "code",
   "execution_count": 58,
   "metadata": {
    "collapsed": false
   },
   "outputs": [
    {
     "name": "stderr",
     "output_type": "stream",
     "text": [
      "Widget Javascript not detected.  It may not be installed properly. Did you enable the widgetsnbextension? If not, then run \"jupyter nbextension enable --py --sys-prefix widgetsnbextension\"\n",
      "Widget Javascript not detected.  It may not be installed properly. Did you enable the widgetsnbextension? If not, then run \"jupyter nbextension enable --py --sys-prefix widgetsnbextension\"\n",
      "Widget Javascript not detected.  It may not be installed properly. Did you enable the widgetsnbextension? If not, then run \"jupyter nbextension enable --py --sys-prefix widgetsnbextension\"\n"
     ]
    },
    {
     "name": "stdout",
     "output_type": "stream",
     "text": [
      "Corpus Size: 121874"
     ]
    },
    {
     "data": {
      "image/png": "[encoded data removed]",
      "text/plain": [
       "<matplotlib.figure.Figure at 0x2753e780>"
      ]
     },
     "metadata": {},
     "output_type": "display_data"
    }
   ],
   "source": [
    "caption_0 = widgets.Label('Enter a number:')\n",
    "text_0 = widgets.IntText(value=10)\n",
    "button_0 = widgets.Button(description=\"Plot\")\n",
    "display(caption_0,text_0,button_0)\n",
    "\n",
    "def histogram_label():\n",
    "    n = text_0.value # Top n words\n",
    "    corpus_size = 0\n",
    "    i=1\n",
    "    df = news[['TITLE','CATEGORY']]\n",
    "    df['TITLE'] = news['TITLE'].apply(text_process).str.lower()\n",
    "    categories = news.CATEGORY.unique()\n",
    "    for category in categories:\n",
    "            df_title=df.query('CATEGORY ==  @category')\n",
    "            result =\" \".join(df_title['TITLE'].values.tolist()).split(\" \")\n",
    "            r = pd.DataFrame(result, columns=['WORDS'])\n",
    "            corpus_size = corpus_size + len(r['WORDS'].unique())\n",
    "            Counter_=Counter(result).most_common(n)\n",
    "            labels = [item[0] for item in Counter_]\n",
    "            number = [item[1] for item in Counter_]\n",
    "            nbars = len(Counter_)\n",
    "            plt.subplot(2,2,i)\n",
    "            plt.xticks(rotation=90,fontsize=15)\n",
    "            plt.yticks(fontsize=15)\n",
    "            plt.title(class_desc(category), fontsize=18)\n",
    "            plt.bar(np.arange(nbars), number, tick_label=labels)\n",
    "            i=i+1\n",
    "    return corpus_size\n",
    "\n",
    "def handle_submit(sender):\n",
    "    t = (\"Plot is being performed! Please wait ...\")\n",
    "    sys.stdout.write('\\r'+t)\n",
    "    plt.figure(figsize=(15,10))\n",
    "    s = histogram_label()\n",
    "    plt.tight_layout()\n",
    "    sys.stdout.write('\\r'+'Corpus Size: ' + str(s))\n",
    "    sys.stdout.flush()\n",
    "    \n",
    "button_0.on_click(handle_submit)"
   ]
  },
  {
   "cell_type": "markdown",
   "metadata": {},
   "source": [
    "# News Classification"
   ]
  },
  {
   "cell_type": "markdown",
   "metadata": {},
   "source": [
    "The EDA section, mentioned above, has given some information about factors that could help perform classification of news stories to some level. In other words, the EDA has given some important information, but this could not be viewed enough to give more confident results of classifying news articles. For instance, the word <b>Google</b> is one of the most frequent words in the t-category (Technology and Science) articles, but this word could be used in business articles, and therefore, it cannot be generalized that every story that has the <b>Google</b> it leads to classify it as t-category.  In this section we are going to employ machine learning to help achieve the goal of this project.\n",
    "\n",
    "According to EDA, it can be seen that the most significant feature is: <b>TITLE</b>. In the next code, we are going to create two objects X and y. X will be the 'TITLE' column of 'news' dataset. Moreover, as our case is supervised, y will be the class which is the <b>CATEGORY</b> column of our exploited dataset."
   ]
  },
  {
   "cell_type": "code",
   "execution_count": 19,
   "metadata": {
    "collapsed": false
   },
   "outputs": [],
   "source": [
    "X = news.TITLE\n",
    "y = news.CATEGORY"
   ]
  },
  {
   "cell_type": "markdown",
   "metadata": {},
   "source": [
    "## Train Test Split\n",
    "\n",
    "Following the best practices, we are going to split our data into training and testing data."
   ]
  },
  {
   "cell_type": "code",
   "execution_count": 20,
   "metadata": {
    "collapsed": false
   },
   "outputs": [
    {
     "name": "stdout",
     "output_type": "stream",
     "text": [
      "(295693,) (126726,) (295693,) (126726,)\n"
     ]
    }
   ],
   "source": [
    "from sklearn.cross_validation import train_test_split\n",
    "X_train, X_test, y_train, y_test = train_test_split(X, y, test_size=0.3, random_state=101)\n",
    "print(X_train.shape, X_test.shape, y_train.shape, y_test.shape)"
   ]
  },
  {
   "cell_type": "markdown",
   "metadata": {},
   "source": [
    "## Training Model\n",
    "\n",
    "In this piece of work, we will implement different models and show the classification output according to each one. Then, the final result of prediction will be based on the result of all predictions as it will be presnted in the follwoing sections."
   ]
  },
  {
   "cell_type": "markdown",
   "metadata": {},
   "source": [
    "In order to make the procees of processing; vectorizer => transformer => classifier, easier, we will create a pipeline with the following steps: \n",
    "<ol>\n",
    "<li>CountVectorizer()</li><li>TfidfTransformer()</li><li>Classifer; Suitable Supervised Model</li>"
   ]
  },
  {
   "cell_type": "markdown",
   "metadata": {},
   "source": [
    "#### Training using Multinomial Naive Bayes"
   ]
  },
  {
   "cell_type": "code",
   "execution_count": 21,
   "metadata": {
    "collapsed": false
   },
   "outputs": [
    {
     "name": "stdout",
     "output_type": "stream",
     "text": [
      "             precision    recall  f1-score   support\n",
      "\n",
      "          b       0.91      0.90      0.90     35158\n",
      "          e       0.97      0.95      0.96     46862\n",
      "          m       0.85      0.97      0.91     12092\n",
      "          t       0.90      0.90      0.90     32614\n",
      "\n",
      "avg / total       0.92      0.92      0.92    126726\n",
      "\n"
     ]
    }
   ],
   "source": [
    "from sklearn.naive_bayes import MultinomialNB\n",
    "\n",
    "# Initializing Pipline\n",
    "pipelineNB = Pipeline([\n",
    "    ('bow', CountVectorizer()),  # strings to token integer counts   ====  analyzer=normalize_text\n",
    "    ('tfidf', TfidfTransformer()),  # integer counts to weighted TF-IDF scores\n",
    "    ('classifier', MultinomialNB()),  # train on TF-IDF vectors\n",
    "])\n",
    "\n",
    "# Training the model\n",
    "pipelineNB.fit(X_train, y_train)\n",
    "\n",
    "# Saving training results using Pickle\n",
    "with open('pipelineNB.pickle', 'wb') as handle:\n",
    "    pickle.dump(pipelineNB, handle, protocol=pickle.HIGHEST_PROTOCOL)\n",
    "\n",
    "# Predictions\n",
    "predictionsNB = pipelineNB.predict(X_test)\n",
    "\n",
    "# Model Evaluation\n",
    "print(classification_report(predictionsNB, y_test))"
   ]
  },
  {
   "cell_type": "code",
   "execution_count": 22,
   "metadata": {
    "collapsed": false
   },
   "outputs": [
    {
     "data": {
      "text/plain": [
       "'e'"
      ]
     },
     "execution_count": 22,
     "metadata": {},
     "output_type": "execute_result"
    }
   ],
   "source": [
    "# This is just for testing purposes :)\n",
    "with open('pipelineNB.pickle', 'rb') as handle:\n",
    "    NB = pickle.load(handle)\n",
    "NB.predict([\"See Mark Hamill prank 'Star Wars' superfans\"])[0]"
   ]
  },
  {
   "cell_type": "markdown",
   "metadata": {},
   "source": [
    "##### Cross Validation"
   ]
  },
  {
   "cell_type": "code",
   "execution_count": 23,
   "metadata": {
    "collapsed": false
   },
   "outputs": [
    {
     "name": "stdout",
     "output_type": "stream",
     "text": [
      "Wall time: 18.2 s\n",
      "Cross-validation scores: [ 0.92101926  0.92235242  0.9230444   0.92143799  0.92427753]\n",
      "Average cross-validation score: 0.92 +/- 0.00\n"
     ]
    }
   ],
   "source": [
    "%time scoresNB = cross_val_score(pipelineNB, X_train, y_train, cv = 5)\n",
    "print(\"Cross-validation scores: {}\".format(scoresNB))\n",
    "print(\"Average cross-validation score: {:.2f} +/- {:.2f}\".format(scoresNB.mean(), scoresNB.std()))\n",
    "scoresNB = scoresNB.mean()"
   ]
  },
  {
   "cell_type": "code",
   "execution_count": 24,
   "metadata": {
    "collapsed": false
   },
   "outputs": [
    {
     "name": "stdout",
     "output_type": "stream",
     "text": [
      "Wall time: 29.3 s\n"
     ]
    },
    {
     "data": {
      "text/plain": [
       "<module 'matplotlib.pyplot' from 'C:\\\\Program Files\\\\Anaconda3\\\\lib\\\\site-packages\\\\matplotlib\\\\pyplot.py'>"
      ]
     },
     "execution_count": 24,
     "metadata": {},
     "output_type": "execute_result"
    },
    {
     "data": {
      "image/png": "[encoded data removed]",
      "text/plain": [
       "<matplotlib.figure.Figure at 0x19480208>"
      ]
     },
     "metadata": {},
     "output_type": "display_data"
    }
   ],
   "source": [
    "%time plot_learning_curve(pipelineNB, \"accuracy vs. training set size\", X_train, y_train, cv=5)"
   ]
  },
  {
   "cell_type": "markdown",
   "metadata": {},
   "source": [
    "#### Training using Logistic Regression"
   ]
  },
  {
   "cell_type": "code",
   "execution_count": 25,
   "metadata": {
    "collapsed": false
   },
   "outputs": [
    {
     "name": "stdout",
     "output_type": "stream",
     "text": [
      "Wall time: 11.1 s\n",
      "             precision    recall  f1-score   support\n",
      "\n",
      "          b       0.92      0.92      0.92     34744\n",
      "          e       0.98      0.96      0.97     46458\n",
      "          m       0.91      0.96      0.93     13110\n",
      "          t       0.92      0.93      0.93     32414\n",
      "\n",
      "avg / total       0.94      0.94      0.94    126726\n",
      "\n"
     ]
    }
   ],
   "source": [
    "from sklearn.linear_model import LogisticRegression\n",
    "\n",
    "pipelineLOG = Pipeline([\n",
    "    ('bow', CountVectorizer()),  # strings to token integer counts   === analyzer=normalize_text\n",
    "    ('tfidf', TfidfTransformer()),  # integer counts to weighted TF-IDF scores\n",
    "    ('classifier', LogisticRegression()),  # train on TF-IDF vectors\n",
    "])\n",
    "%time pipelineLOG.fit(X_train, y_train)\n",
    "\n",
    "# Saving training results using Pickle\n",
    "with open('pipelineLOG.pickle', 'wb') as handle:\n",
    "    pickle.dump(pipelineLOG, handle, protocol=pickle.HIGHEST_PROTOCOL)\n",
    "\n",
    "predictionsLOG = pipelineLOG.predict(X_test)\n",
    "\n",
    "print(classification_report(predictionsLOG, y_test))"
   ]
  },
  {
   "cell_type": "code",
   "execution_count": 26,
   "metadata": {
    "collapsed": false
   },
   "outputs": [
    {
     "data": {
      "text/plain": [
       "'e'"
      ]
     },
     "execution_count": 26,
     "metadata": {},
     "output_type": "execute_result"
    }
   ],
   "source": [
    "# This is just for testing purposes :)\n",
    "with open('pipelineLOG.pickle', 'rb') as handle:\n",
    "    LOG = pickle.load(handle)\n",
    "LOG.predict([\"See Mark Hamill prank 'Star Wars' superfans\"])[0]"
   ]
  },
  {
   "cell_type": "markdown",
   "metadata": {},
   "source": [
    "##### Cross Validation"
   ]
  },
  {
   "cell_type": "code",
   "execution_count": 27,
   "metadata": {
    "collapsed": false
   },
   "outputs": [
    {
     "name": "stdout",
     "output_type": "stream",
     "text": [
      "Wall time: 47.2 s\n",
      "Cross-validation scores: [ 0.93726856  0.93981975  0.94049511  0.93922689  0.94164398]\n",
      "Average cross-validation score: 0.94 +/- 0.00\n"
     ]
    }
   ],
   "source": [
    "%time scoresLOG = cross_val_score(pipelineLOG, X_train, y_train, cv = 5)\n",
    "print(\"Cross-validation scores: {}\".format(scoresLOG))\n",
    "print(\"Average cross-validation score: {:.2f} +/- {:.2f}\".format(scoresLOG.mean(), scoresLOG.std()))\n",
    "scoresLOG = scoresLOG.mean()"
   ]
  },
  {
   "cell_type": "code",
   "execution_count": 28,
   "metadata": {
    "collapsed": false
   },
   "outputs": [
    {
     "name": "stdout",
     "output_type": "stream",
     "text": [
      "Wall time: 2min 42s\n"
     ]
    },
    {
     "data": {
      "text/plain": [
       "<module 'matplotlib.pyplot' from 'C:\\\\Program Files\\\\Anaconda3\\\\lib\\\\site-packages\\\\matplotlib\\\\pyplot.py'>"
      ]
     },
     "execution_count": 28,
     "metadata": {},
     "output_type": "execute_result"
    },
    {
     "data": {
      "image/png": "[encoded data removed]",
      "text/plain": [
       "<matplotlib.figure.Figure at 0xf315eb8>"
      ]
     },
     "metadata": {},
     "output_type": "display_data"
    }
   ],
   "source": [
    "%time plot_learning_curve(pipelineLOG, \"accuracy vs. training set size\", X_train, y_train, cv=5)"
   ]
  },
  {
   "cell_type": "markdown",
   "metadata": {},
   "source": [
    "#### Training using Decision Tree Classifier"
   ]
  },
  {
   "cell_type": "code",
   "execution_count": 29,
   "metadata": {
    "collapsed": false
   },
   "outputs": [
    {
     "name": "stdout",
     "output_type": "stream",
     "text": [
      "Wall time: 6.38 s\n",
      "             precision    recall  f1-score   support\n",
      "\n",
      "          b       0.05      0.93      0.09      1758\n",
      "          e       1.00      0.41      0.58    110483\n",
      "          m       0.15      0.89      0.26      2382\n",
      "          t       0.35      0.95      0.51     12103\n",
      "\n",
      "avg / total       0.91      0.48      0.56    126726\n",
      "\n"
     ]
    }
   ],
   "source": [
    "from sklearn.tree import DecisionTreeClassifier\n",
    "\n",
    "pipelineDT = Pipeline([\n",
    "    ('bow', CountVectorizer()),  # strings to token integer counts   === analyzer=normalize_text\n",
    "    ('tfidf', TfidfTransformer()),  # integer counts to weighted TF-IDF scores\n",
    "    ('classifier', DecisionTreeClassifier(max_depth=10,random_state=0)),  # train on TF-IDF vectors\n",
    "])\n",
    "\n",
    "%time pipelineDT.fit(X_train, y_train)\n",
    "\n",
    "# Saving training results using Pickle\n",
    "with open('pipelineDT.pickle', 'wb') as handle:\n",
    "    pickle.dump(pipelineDT, handle, protocol=pickle.HIGHEST_PROTOCOL)\n",
    "\n",
    "predictionsDT = pipelineDT.predict(X_test)\n",
    "\n",
    "print(classification_report(predictionsDT, y_test))"
   ]
  },
  {
   "cell_type": "markdown",
   "metadata": {},
   "source": [
    "##### Cross Validation"
   ]
  },
  {
   "cell_type": "code",
   "execution_count": 30,
   "metadata": {
    "collapsed": false
   },
   "outputs": [
    {
     "name": "stdout",
     "output_type": "stream",
     "text": [
      "Wall time: 29.6 s\n",
      "Cross-validation scores: [ 0.48685345  0.4801231   0.48175454  0.48192364  0.48054517]\n",
      "Average cross-validation score: 0.48 +/- 0.00\n"
     ]
    }
   ],
   "source": [
    "%time scoresDT = cross_val_score(pipelineDT, X_train, y_train, cv = 5)\n",
    "print(\"Cross-validation scores: {}\".format(scoresDT))\n",
    "print(\"Average cross-validation score: {:.2f} +/- {:.2f}\".format(scoresDT.mean(), scoresDT.std()))\n",
    "scoresDT = scoresDT.mean()"
   ]
  },
  {
   "cell_type": "code",
   "execution_count": 31,
   "metadata": {
    "collapsed": false
   },
   "outputs": [
    {
     "name": "stdout",
     "output_type": "stream",
     "text": [
      "Wall time: 41.1 s\n"
     ]
    },
    {
     "data": {
      "text/plain": [
       "<module 'matplotlib.pyplot' from 'C:\\\\Program Files\\\\Anaconda3\\\\lib\\\\site-packages\\\\matplotlib\\\\pyplot.py'>"
      ]
     },
     "execution_count": 31,
     "metadata": {},
     "output_type": "execute_result"
    },
    {
     "data": {
      "image/png": "[encoded data removed]",
      "text/plain": [
       "<matplotlib.figure.Figure at 0xdd62c50>"
      ]
     },
     "metadata": {},
     "output_type": "display_data"
    }
   ],
   "source": [
    "%time plot_learning_curve(pipelineDT, \"accuracy vs. training set size\", X_train, y_train, cv=5)"
   ]
  },
  {
   "cell_type": "markdown",
   "metadata": {},
   "source": [
    "#### Training using Random Forest Classifier"
   ]
  },
  {
   "cell_type": "code",
   "execution_count": 32,
   "metadata": {
    "collapsed": false
   },
   "outputs": [
    {
     "name": "stdout",
     "output_type": "stream",
     "text": [
      "Wall time: 5min 6s\n",
      "             precision    recall  f1-score   support\n",
      "\n",
      "          b       0.90      0.88      0.89     35234\n",
      "          e       0.97      0.91      0.94     48504\n",
      "          m       0.83      0.94      0.88     12254\n",
      "          t       0.88      0.93      0.90     30734\n",
      "\n",
      "avg / total       0.91      0.91      0.91    126726\n",
      "\n"
     ]
    }
   ],
   "source": [
    "from sklearn.ensemble import RandomForestClassifier\n",
    "\n",
    "pipelineRF = Pipeline([\n",
    "    ('bow', CountVectorizer()),  # strings to token integer counts   === analyzer=normalize_text\n",
    "    ('tfidf', TfidfTransformer()),  # integer counts to weighted TF-IDF scores\n",
    "    ('classifier', RandomForestClassifier(n_estimators=20)),  # train on TF-IDF vectors\n",
    "])\n",
    "\n",
    "%time pipelineRF.fit(X_train, y_train)\n",
    "\n",
    "# Saving training results using Pickle\n",
    "with open('pipelineRF.pickle', 'wb') as handle:\n",
    "    pickle.dump(pipelineRF, handle, protocol=pickle.HIGHEST_PROTOCOL)\n",
    "    \n",
    "predictionsRF = pipelineRF.predict(X_test)\n",
    "\n",
    "print(classification_report(predictionsRF, y_test))"
   ]
  },
  {
   "cell_type": "markdown",
   "metadata": {},
   "source": [
    "##### Cross Validation"
   ]
  },
  {
   "cell_type": "code",
   "execution_count": 33,
   "metadata": {
    "collapsed": false
   },
   "outputs": [
    {
     "name": "stdout",
     "output_type": "stream",
     "text": [
      "Wall time: 18min 7s\n",
      "Cross-validation scores: [ 0.90537867  0.90556147  0.90473131  0.90860361  0.90726618]\n",
      "Average cross-validation score: 0.91 +/- 0.00\n"
     ]
    }
   ],
   "source": [
    "%time scoresRF = cross_val_score(pipelineRF, X_train, y_train, cv = 5)\n",
    "print(\"Cross-validation scores: {}\".format(scoresRF))\n",
    "print(\"Average cross-validation score: {:.2f} +/- {:.2f}\".format(scoresRF.mean(), scoresRF.std()))\n",
    "scoresRF = scoresRF.mean()"
   ]
  },
  {
   "cell_type": "code",
   "execution_count": 34,
   "metadata": {
    "collapsed": false
   },
   "outputs": [
    {
     "name": "stdout",
     "output_type": "stream",
     "text": [
      "Wall time: 25min 2s\n"
     ]
    },
    {
     "data": {
      "text/plain": [
       "<module 'matplotlib.pyplot' from 'C:\\\\Program Files\\\\Anaconda3\\\\lib\\\\site-packages\\\\matplotlib\\\\pyplot.py'>"
      ]
     },
     "execution_count": 34,
     "metadata": {},
     "output_type": "execute_result"
    },
    {
     "data": {
      "image/png": "[encoded data removed]",
      "text/plain": [
       "<matplotlib.figure.Figure at 0x19973a20>"
      ]
     },
     "metadata": {},
     "output_type": "display_data"
    }
   ],
   "source": [
    "%time plot_learning_curve(pipelineRF, \"accuracy vs. training set size\", X_train, y_train, cv=5)"
   ]
  },
  {
   "cell_type": "markdown",
   "metadata": {},
   "source": [
    "#### Training using K-Neighbors Classifier\n",
    "For memory limitation errors, there was no chance to use KNN classifier."
   ]
  },
  {
   "cell_type": "code",
   "execution_count": 35,
   "metadata": {
    "collapsed": false
   },
   "outputs": [],
   "source": [
    "# from sklearn.neighbors import KNeighborsClassifier\n",
    "\n",
    "# pipelineKNN = Pipeline([\n",
    "#     ('bow', CountVectorizer()),  # strings to token integer counts   === analyzer=normalize_text\n",
    "#     ('tfidf', TfidfTransformer()),  # integer counts to weighted TF-IDF scores\n",
    "#     ('classifier', KNeighborsClassifier()),  # train on TF-IDF vectors\n",
    "# ])\n",
    "\n",
    "# %time pipelineKNN.fit(X_train, y_train)\n",
    "\n",
    "# # Saving training results using Pickle\n",
    "# with open('pipelineKNN.pickle', 'wb') as handle:\n",
    "#     pickle.dump(pipelineKNN, handle, protocol=pickle.HIGHEST_PROTOCOL)\n",
    "    \n",
    "# predictionsKNN = pipelineKNN.predict(X_test)\n",
    "\n",
    "# print(classification_report(predictionsKNN, y_test))"
   ]
  },
  {
   "cell_type": "markdown",
   "metadata": {},
   "source": [
    "##### Cross Validation"
   ]
  },
  {
   "cell_type": "code",
   "execution_count": 36,
   "metadata": {
    "collapsed": false
   },
   "outputs": [],
   "source": [
    "# %time scoresKNN = cross_val_score(pipelineKNN, X_train, y_train, cv = 5)\n",
    "# print(\"Cross-validation scores: {}\".format(scoresKNN))\n",
    "# print(\"Average cross-validation score: {:.2f} +/- {:.2f}\".format(scoresKNN.mean(), scoresKNN.std()))\n",
    "# scoresKNN = scoresKNN.mean()"
   ]
  },
  {
   "cell_type": "code",
   "execution_count": 37,
   "metadata": {
    "collapsed": true
   },
   "outputs": [],
   "source": [
    "# %time plot_learning_curve(pipelineKNN, \"accuracy vs. training set size\", X_train, y_train, cv=5)"
   ]
  },
  {
   "cell_type": "markdown",
   "metadata": {},
   "source": [
    "#### Training using SVM"
   ]
  },
  {
   "cell_type": "code",
   "execution_count": 38,
   "metadata": {
    "collapsed": false
   },
   "outputs": [
    {
     "name": "stdout",
     "output_type": "stream",
     "text": [
      "Wall time: 9.84 s\n",
      "             precision    recall  f1-score   support\n",
      "\n",
      "          b       0.93      0.93      0.93     34701\n",
      "          e       0.98      0.98      0.98     45844\n",
      "          m       0.94      0.96      0.95     13577\n",
      "          t       0.93      0.93      0.93     32604\n",
      "\n",
      "avg / total       0.95      0.95      0.95    126726\n",
      "\n"
     ]
    }
   ],
   "source": [
    "# from sklearn.svm import SVC\n",
    "from sklearn.svm import LinearSVC\n",
    "\n",
    "pipelineSV = Pipeline([\n",
    "    ('bow', CountVectorizer()),  # strings to token integer counts   === analyzer=normalize_text\n",
    "    ('tfidf', TfidfTransformer()),  # integer counts to weighted TF-IDF scores\n",
    "    ('classifier', LinearSVC()),  # train on TF-IDF vectors\n",
    "])\n",
    "\n",
    "%time pipelineSV.fit(X_train, y_train)\n",
    "\n",
    "# Saving training results using Pickle\n",
    "with open('pipelineSV.pickle', 'wb') as handle:\n",
    "    pickle.dump(pipelineSV, handle, protocol=pickle.HIGHEST_PROTOCOL)\n",
    "\n",
    "predictionsSV = pipelineSV.predict(X_test)\n",
    "\n",
    "print(classification_report(predictionsSV, y_test))"
   ]
  },
  {
   "cell_type": "code",
   "execution_count": 39,
   "metadata": {
    "collapsed": false
   },
   "outputs": [
    {
     "data": {
      "text/plain": [
       "'e'"
      ]
     },
     "execution_count": 39,
     "metadata": {},
     "output_type": "execute_result"
    }
   ],
   "source": [
    "# This is just for testing purposes :)\n",
    "with open('pipelineSV.pickle', 'rb') as handle:\n",
    "    SV = pickle.load(handle)\n",
    "SV.predict([\"See Mark Hamill prank 'Star Wars' superfans\"])[0]"
   ]
  },
  {
   "cell_type": "markdown",
   "metadata": {},
   "source": [
    "##### Cross Validation"
   ]
  },
  {
   "cell_type": "code",
   "execution_count": 40,
   "metadata": {
    "collapsed": false
   },
   "outputs": [
    {
     "name": "stdout",
     "output_type": "stream",
     "text": [
      "Wall time: 44.4 s\n",
      "Cross-validation scores: [ 0.94729545  0.94947497  0.94905137  0.94835808  0.95038639]\n",
      "Average cross-validation score: 0.95 +/- 0.00\n"
     ]
    }
   ],
   "source": [
    "%time scoresSV = cross_val_score(pipelineSV, X_train, y_train, cv = 5)\n",
    "print(\"Cross-validation scores: {}\".format(scoresSV))\n",
    "print(\"Average cross-validation score: {:.2f} +/- {:.2f}\".format(scoresSV.mean(), scoresSV.std()))\n",
    "scoresSV = scoresSV.mean()"
   ]
  },
  {
   "cell_type": "code",
   "execution_count": 41,
   "metadata": {
    "collapsed": false
   },
   "outputs": [
    {
     "name": "stdout",
     "output_type": "stream",
     "text": [
      "Wall time: 55.8 s\n"
     ]
    },
    {
     "data": {
      "text/plain": [
       "<module 'matplotlib.pyplot' from 'C:\\\\Program Files\\\\Anaconda3\\\\lib\\\\site-packages\\\\matplotlib\\\\pyplot.py'>"
      ]
     },
     "execution_count": 41,
     "metadata": {},
     "output_type": "execute_result"
    },
    {
     "data": {
      "image/png": "[encoded data removed]",
      "text/plain": [
       "<matplotlib.figure.Figure at 0x1cd39b00>"
      ]
     },
     "metadata": {},
     "output_type": "display_data"
    }
   ],
   "source": [
    "%time plot_learning_curve(pipelineSV, \"accuracy vs. training set size\", X_train, y_train, cv=5)"
   ]
  },
  {
   "cell_type": "markdown",
   "metadata": {},
   "source": [
    "#### Training using Neural-Network"
   ]
  },
  {
   "cell_type": "code",
   "execution_count": 53,
   "metadata": {
    "collapsed": false
   },
   "outputs": [
    {
     "name": "stdout",
     "output_type": "stream",
     "text": [
      "Wall time: 3min 59s\n",
      "             precision    recall  f1-score   support\n",
      "\n",
      "          b       0.91      0.91      0.91     34622\n",
      "          e       0.97      0.96      0.96     45875\n",
      "          m       0.91      0.92      0.91     13768\n",
      "          t       0.91      0.91      0.91     32461\n",
      "\n",
      "avg / total       0.93      0.93      0.93    126726\n",
      "\n"
     ]
    }
   ],
   "source": [
    "from sklearn.neural_network import MLPClassifier\n",
    "\n",
    "# Initializing Pipline\n",
    "pipelineMLP = Pipeline([\n",
    "    ('bow', CountVectorizer()),  # strings to token integer counts   ====  analyzer=normalize_text\n",
    "    ('tfidf', TfidfTransformer()),  # integer counts to weighted TF-IDF scores\n",
    "    ('classifier', MLPClassifier(hidden_layer_sizes=2)),  # train on TF-IDF vectors   # hidden_layer_sizes=2\n",
    "])\n",
    "\n",
    "# Training the model\n",
    "%time pipelineMLP.fit(X_train, y_train)\n",
    "\n",
    "# Saving training results using Pickle\n",
    "with open('pipelineMLP.pickle', 'wb') as handle:\n",
    "    pickle.dump(pipelineMLP, handle, protocol=pickle.HIGHEST_PROTOCOL)\n",
    "\n",
    "# Predictions\n",
    "predictionsMLP = pipelineMLP.predict(X_test)\n",
    "\n",
    "# Model Evaluation\n",
    "print(classification_report(predictionsMLP, y_test))"
   ]
  },
  {
   "cell_type": "markdown",
   "metadata": {},
   "source": [
    "##### Cross Validation"
   ]
  },
  {
   "cell_type": "code",
   "execution_count": 54,
   "metadata": {
    "collapsed": false
   },
   "outputs": [
    {
     "name": "stdout",
     "output_type": "stream",
     "text": [
      "Wall time: 17min 22s\n",
      "Cross-validation scores: [ 0.92335267  0.92433081  0.92629105  0.92747472  0.92284018]\n",
      "Average cross-validation score: 0.92 +/- 0.00\n"
     ]
    }
   ],
   "source": [
    "%time scoresMLP = cross_val_score(pipelineMLP, X_train, y_train, cv = 5)\n",
    "print(\"Cross-validation scores: {}\".format(scoresMLP))\n",
    "print(\"Average cross-validation score: {:.2f} +/- {:.2f}\".format(scoresMLP.mean(), scoresMLP.std()))\n",
    "scoresMLP = scoresMLP.mean()"
   ]
  },
  {
   "cell_type": "code",
   "execution_count": 55,
   "metadata": {
    "collapsed": false
   },
   "outputs": [],
   "source": [
    "# For resource limitations, this part could not work properly\n",
    "# %time plot_learning_curve(pipelineMLP, \"accuracy vs. training set size\", X_train, y_train, cv=5)"
   ]
  },
  {
   "cell_type": "markdown",
   "metadata": {},
   "source": [
    "# System Evaluation and Deployment\n",
    "In this section we will create the <b>ensemble_predic</b> funtion. This function will take in a text, which is the headline of a news artice, then it gives back the category of the given article headline. The prediction works as follows. It predict the category of the given text employing different supervised learning models. As the label is discrete, then, we have employed different classifiers as shown in the <b>News Classification</b> section. The prediction result is based on the highest mean of each category group."
   ]
  },
  {
   "cell_type": "code",
   "execution_count": 56,
   "metadata": {
    "collapsed": true
   },
   "outputs": [],
   "source": [
    "def ensemble_predic(p_title):\n",
    "    results = pd.DataFrame({'model' : pd.Series(['NB', 'LOG','DT', 'RF', 'SV', 'MLP'], index=['1', '2', '3','4','5','6']),\n",
    "                            'class' : pd.Series([read_from_pickle('pipelineNB').predict([p_title])[0], \n",
    "                                                 read_from_pickle('pipelineLOG').predict([p_title])[0], \n",
    "                                                 read_from_pickle('pipelineDT').predict([p_title])[0],\n",
    "                                                 read_from_pickle('pipelineRF').predict([p_title])[0],\n",
    "                                                 read_from_pickle('pipelineSV').predict([p_title])[0],\n",
    "                                                 read_from_pickle('pipelineMLP').predict([p_title])[0]], index=['1', '2', '3','4','5','6']),\n",
    "                           'percent' : pd.Series([scoresNB, \n",
    "                                                 scoresLOG, \n",
    "                                                 scoresDT,\n",
    "                                                 scoresRF,\n",
    "                                                 scoresSV,\n",
    "                                                 scoresMLP], index=['1', '2', '3','4','5','6'])})\n",
    "\n",
    "    errors_average = results['percent'].mean() - results['percent'].std()\n",
    "    print(results)\n",
    "    return results[results.percent >= errors_average].groupby('class')['percent'].mean().idxmax()"
   ]
  },
  {
   "cell_type": "markdown",
   "metadata": {},
   "source": [
    "## Model Evaluation\n",
    "In this sub-section we will evaluate our model using the Test set resulted from the split preocess. We will calculate the expected prediction using the <b>ensemble_predic</b> function, and compare the prediction results against the actual category of each story in the test set. Significantly, without a normalizing function; specifically removing stops words; the results seem to be better in terms of accuracy."
   ]
  },
  {
   "cell_type": "markdown",
   "metadata": {
    "collapsed": false
   },
   "source": [
    "X_test_pred = X_test[0::].apply(ensemble_predic)"
   ]
  },
  {
   "cell_type": "markdown",
   "metadata": {},
   "source": [
    "## Model Deployment\n",
    "In this sub-section, we have built a simple user interface that accepts a text and gives back the most likely classification."
   ]
  },
  {
   "cell_type": "code",
   "execution_count": 57,
   "metadata": {
    "collapsed": false
   },
   "outputs": [
    {
     "name": "stdout",
     "output_type": "stream",
     "text": [
      "Text: In Rare Unity, Hospitals, Doctors and Insurers Criticize Health Bill\n",
      "\n",
      "\n",
      "  class model   percent\n",
      "1     m    NB  0.922426\n",
      "2     m   LOG  0.939691\n",
      "3     e    DT  0.482240\n",
      "4     m    RF  0.906308\n",
      "5     m    SV  0.948913\n",
      "6     m   MLP  0.924858\n",
      "Most likely prediction:  Health\n",
      "\n",
      "-----------------------------------------------------------------------\n",
      "b = business, t = science and technology, e = entertainment, m = health\n"
     ]
    }
   ],
   "source": [
    "caption = widgets.Label('Enter an article here:')\n",
    "text = widgets.Textarea()\n",
    "button = widgets.Button(description=\"Classify\")\n",
    "display(caption,text,button)\n",
    "\n",
    "def handle_submit(sender):\n",
    "    message = text.value\n",
    "    clear_output()\n",
    "    print('Text: '+message)\n",
    "    print('\\n')\n",
    "    print('Most likely prediction: ', class_desc(ensemble_predic(message)))\n",
    "    print('\\n-----------------------------------------------------------------------')\n",
    "    print('b = business, t = science and technology, e = entertainment, m = health')\n",
    "    \n",
    "button.on_click(handle_submit)\n",
    "\n",
    "\n",
    "'''\n",
    "   Testing Examples:\n",
    "    - Testing examples:\n",
    "    - IBM sales has grown 33% in the last 5 years\n",
    "    - Pearson shareholders reject chief executive's £1.5m pay package \n",
    "    - World Bank transfers $5.6 million to PA\n",
    "    - Child’s Play Is Good for All of Us\n",
    "    - Why Kids Shouldn’t Sit Still in Class\n",
    "    - Why Deep Breathing May Keep Us Calm\n",
    "    - In Rare Unity, Hospitals, Doctors and Insurers Criticize Health Bill\n",
    "    - Scientists can now count birds from space\n",
    "    - What to expect with the iPhone 8\n",
    "    - See Mark Hamill prank 'Star Wars' superfans\n",
    "    - Lyft and Waymo Reach Deal to Collaborate on Self-Driving Cars\n",
    "'''"
   ]
  },
  {
   "cell_type": "markdown",
   "metadata": {
    "collapsed": true
   },
   "source": [
    "# Conclusion and Future Work\n",
    "In this project, news classifiers has been developed. Some supervised learning machine learning models were employed in the prediction of the category of news story. As seen in the deployment section, each model could give different results from otherclassifiers, and so, the final result was calculated based on the highest mean of a ctegory result.\n",
    "\n",
    "As seen in this piece of work, the data tested was for news stories witten in the English language. As a futeure work, we will re-train and test our model on articles in the Arabic language. An aggregator can also be built employing the desired classifier. This aggregator shall be enabled to collect news stories based on a specific category that is of an interest of a specific user."
   ]
  }
 ],
 "metadata": {
  "anaconda-cloud": {},
  "kernelspec": {
   "display_name": "Python [default]",
   "language": "python",
   "name": "python3"
  },
  "language_info": {
   "codemirror_mode": {
    "name": "ipython",
    "version": 3
   },
   "file_extension": ".py",
   "mimetype": "text/x-python",
   "name": "python",
   "nbconvert_exporter": "python",
   "pygments_lexer": "ipython3",
   "version": "3.5.2"
  },
  "widgets": {
   "state": {
    "80e5036dde4349d59a696b3a320f2304": {
     "views": [
      {
       "cell_index": 28
      }
     ]
    },
    "b48b5acb81894cf5b6d4fdf1afd6fe8c": {
     "views": [
      {
       "cell_index": 79
      }
     ]
    },
    "bcd23f5313ca497195b78ce92a05ab9c": {
     "views": [
      {
       "cell_index": 79
      }
     ]
    },
    "be6fa270dc4b45b7b1c3c6bc5d15ee7e": {
     "views": [
      {
       "cell_index": 79
      }
     ]
    },
    "c6b0f57fe86940ff994dd4ea5ccb5c11": {
     "views": [
      {
       "cell_index": 28
      }
     ]
    },
    "e2f6b7df9a4c4c11bf16cf0953e69be7": {
     "views": [
      {
       "cell_index": 28
      }
     ]
    },
    "ed4c2cc01d9f4c1288a3440c549c71ac": {
     "views": [
      {
       "cell_index": 28
      }
     ]
    },
    "ed8524382f9b4b1da3506bc51a2c3213": {
     "views": [
      {
       "cell_index": 28
      }
     ]
    }
   },
   "version": "1.2.0"
  }
 },
 "nbformat": 4,
 "nbformat_minor": 0
}
