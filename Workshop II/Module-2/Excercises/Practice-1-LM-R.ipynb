{
 "cells": [
  {
   "cell_type": "markdown",
   "metadata": {},
   "source": [
    "# Linear Modeling in R"
   ]
  },
  {
   "cell_type": "code",
   "execution_count": 3,
   "metadata": {
    "collapsed": false
   },
   "outputs": [
    {
     "data": {
      "text/html": [
       "<table>\n",
       "<thead><tr><th scope=col>X</th><th scope=col>school</th><th scope=col>sex</th><th scope=col>age</th><th scope=col>address</th><th scope=col>famsize</th><th scope=col>Pstatus</th><th scope=col>Medu</th><th scope=col>Fedu</th><th scope=col>Mjob</th><th scope=col>⋯</th><th scope=col>higher</th><th scope=col>internet</th><th scope=col>famrel</th><th scope=col>freetime</th><th scope=col>goout</th><th scope=col>health</th><th scope=col>absences</th><th scope=col>G1</th><th scope=col>G2</th><th scope=col>G3</th></tr></thead>\n",
       "<tbody>\n",
       "\t<tr><td>1       </td><td>R       </td><td>F       </td><td>18      </td><td>U       </td><td>GT3     </td><td>A       </td><td>4       </td><td>4       </td><td>at_home </td><td>⋯       </td><td>yes     </td><td>no      </td><td>4       </td><td>3       </td><td>4       </td><td>3       </td><td> 6      </td><td> 5      </td><td> 6      </td><td> 6      </td></tr>\n",
       "\t<tr><td>2       </td><td>R       </td><td>F       </td><td>19      </td><td>U       </td><td>GT3     </td><td>T       </td><td>1       </td><td>1       </td><td>at_home </td><td>⋯       </td><td>yes     </td><td>yes     </td><td>5       </td><td>3       </td><td>3       </td><td>3       </td><td> 4      </td><td> 5      </td><td> 5      </td><td> 6      </td></tr>\n",
       "\t<tr><td>3       </td><td>R       </td><td>F       </td><td>19      </td><td>U       </td><td>LE3     </td><td>T       </td><td>1       </td><td>1       </td><td>at_home </td><td>⋯       </td><td>yes     </td><td>yes     </td><td>4       </td><td>3       </td><td>2       </td><td>3       </td><td>10      </td><td> 7      </td><td> 8      </td><td>10      </td></tr>\n",
       "\t<tr><td>4       </td><td>R       </td><td>F       </td><td>19      </td><td>U       </td><td>GT3     </td><td>T       </td><td>4       </td><td>2       </td><td>health  </td><td>⋯       </td><td>yes     </td><td>yes     </td><td>3       </td><td>2       </td><td>2       </td><td>5       </td><td> 2      </td><td>15      </td><td>14      </td><td>15      </td></tr>\n",
       "\t<tr><td>5       </td><td>R       </td><td>F       </td><td>19      </td><td>U       </td><td>GT3     </td><td>T       </td><td>3       </td><td>3       </td><td>other   </td><td>⋯       </td><td>yes     </td><td>no      </td><td>4       </td><td>3       </td><td>2       </td><td>5       </td><td> 4      </td><td> 6      </td><td>10      </td><td>10      </td></tr>\n",
       "\t<tr><td>6       </td><td>R       </td><td>M       </td><td>19      </td><td>U       </td><td>LE3     </td><td>T       </td><td>4       </td><td>3       </td><td>services</td><td>⋯       </td><td>yes     </td><td>yes     </td><td>5       </td><td>4       </td><td>2       </td><td>5       </td><td>10      </td><td>15      </td><td>15      </td><td>15      </td></tr>\n",
       "</tbody>\n",
       "</table>\n"
      ],
      "text/latex": [
       "\\begin{tabular}{r|llllllllllllllllllllllllllllll}\n",
       " X & school & sex & age & address & famsize & Pstatus & Medu & Fedu & Mjob & ⋯ & higher & internet & famrel & freetime & goout & health & absences & G1 & G2 & G3\\\\\n",
       "\\hline\n",
       "\t 1          & R          & F          & 18         & U          & GT3        & A          & 4          & 4          & at\\_home  & ⋯          & yes        & no         & 4          & 3          & 4          & 3          &  6         &  5         &  6         &  6        \\\\\n",
       "\t 2          & R          & F          & 19         & U          & GT3        & T          & 1          & 1          & at\\_home  & ⋯          & yes        & yes        & 5          & 3          & 3          & 3          &  4         &  5         &  5         &  6        \\\\\n",
       "\t 3          & R          & F          & 19         & U          & LE3        & T          & 1          & 1          & at\\_home  & ⋯          & yes        & yes        & 4          & 3          & 2          & 3          & 10         &  7         &  8         & 10        \\\\\n",
       "\t 4        & R        & F        & 19       & U        & GT3      & T        & 4        & 2        & health   & ⋯        & yes      & yes      & 3        & 2        & 2        & 5        &  2       & 15       & 14       & 15      \\\\\n",
       "\t 5        & R        & F        & 19       & U        & GT3      & T        & 3        & 3        & other    & ⋯        & yes      & no       & 4        & 3        & 2        & 5        &  4       &  6       & 10       & 10      \\\\\n",
       "\t 6        & R        & M        & 19       & U        & LE3      & T        & 4        & 3        & services & ⋯        & yes      & yes      & 5        & 4        & 2        & 5        & 10       & 15       & 15       & 15      \\\\\n",
       "\\end{tabular}\n"
      ],
      "text/markdown": [
       "\n",
       "X | school | sex | age | address | famsize | Pstatus | Medu | Fedu | Mjob | ⋯ | higher | internet | famrel | freetime | goout | health | absences | G1 | G2 | G3 | \n",
       "|---|---|---|---|---|---|\n",
       "| 1        | R        | F        | 18       | U        | GT3      | A        | 4        | 4        | at_home  | ⋯        | yes      | no       | 4        | 3        | 4        | 3        |  6       |  5       |  6       |  6       | \n",
       "| 2        | R        | F        | 19       | U        | GT3      | T        | 1        | 1        | at_home  | ⋯        | yes      | yes      | 5        | 3        | 3        | 3        |  4       |  5       |  5       |  6       | \n",
       "| 3        | R        | F        | 19       | U        | LE3      | T        | 1        | 1        | at_home  | ⋯        | yes      | yes      | 4        | 3        | 2        | 3        | 10       |  7       |  8       | 10       | \n",
       "| 4        | R        | F        | 19       | U        | GT3      | T        | 4        | 2        | health   | ⋯        | yes      | yes      | 3        | 2        | 2        | 5        |  2       | 15       | 14       | 15       | \n",
       "| 5        | R        | F        | 19       | U        | GT3      | T        | 3        | 3        | other    | ⋯        | yes      | no       | 4        | 3        | 2        | 5        |  4       |  6       | 10       | 10       | \n",
       "| 6        | R        | M        | 19       | U        | LE3      | T        | 4        | 3        | services | ⋯        | yes      | yes      | 5        | 4        | 2        | 5        | 10       | 15       | 15       | 15       | \n",
       "\n",
       "\n"
      ],
      "text/plain": [
       "  X school sex age address famsize Pstatus Medu Fedu Mjob     ⋯ higher internet\n",
       "1 1 R      F   18  U       GT3     A       4    4    at_home  ⋯ yes    no      \n",
       "2 2 R      F   19  U       GT3     T       1    1    at_home  ⋯ yes    yes     \n",
       "3 3 R      F   19  U       LE3     T       1    1    at_home  ⋯ yes    yes     \n",
       "4 4 R      F   19  U       GT3     T       4    2    health   ⋯ yes    yes     \n",
       "5 5 R      F   19  U       GT3     T       3    3    other    ⋯ yes    no      \n",
       "6 6 R      M   19  U       LE3     T       4    3    services ⋯ yes    yes     \n",
       "  famrel freetime goout health absences G1 G2 G3\n",
       "1 4      3        4     3       6        5  6  6\n",
       "2 5      3        3     3       4        5  5  6\n",
       "3 4      3        2     3      10        7  8 10\n",
       "4 3      2        2     5       2       15 14 15\n",
       "5 4      3        2     5       4        6 10 10\n",
       "6 5      4        2     5      10       15 15 15"
      ]
     },
     "metadata": {},
     "output_type": "display_data"
    }
   ],
   "source": [
    "# ?read.csv\n",
    "df <- read.csv('student/CELT.csv')\n",
    "head(df)"
   ]
  },
  {
   "cell_type": "code",
   "execution_count": 4,
   "metadata": {
    "collapsed": false
   },
   "outputs": [
    {
     "data": {
      "text/html": [
       "<table>\n",
       "<thead><tr><th scope=col>school</th><th scope=col>sex</th><th scope=col>age</th><th scope=col>address</th><th scope=col>famsize</th><th scope=col>Pstatus</th><th scope=col>Medu</th><th scope=col>Fedu</th><th scope=col>Mjob</th><th scope=col>Fjob</th><th scope=col>⋯</th><th scope=col>higher</th><th scope=col>internet</th><th scope=col>famrel</th><th scope=col>freetime</th><th scope=col>goout</th><th scope=col>health</th><th scope=col>absences</th><th scope=col>G1</th><th scope=col>G2</th><th scope=col>G3</th></tr></thead>\n",
       "<tbody>\n",
       "\t<tr><td>R       </td><td>F       </td><td>18      </td><td>U       </td><td>GT3     </td><td>A       </td><td>4       </td><td>4       </td><td>at_home </td><td>teacher </td><td>⋯       </td><td>yes     </td><td>no      </td><td>4       </td><td>3       </td><td>4       </td><td>3       </td><td> 6      </td><td> 5      </td><td> 6      </td><td> 6      </td></tr>\n",
       "\t<tr><td>R       </td><td>F       </td><td>19      </td><td>U       </td><td>GT3     </td><td>T       </td><td>1       </td><td>1       </td><td>at_home </td><td>other   </td><td>⋯       </td><td>yes     </td><td>yes     </td><td>5       </td><td>3       </td><td>3       </td><td>3       </td><td> 4      </td><td> 5      </td><td> 5      </td><td> 6      </td></tr>\n",
       "\t<tr><td>R       </td><td>F       </td><td>19      </td><td>U       </td><td>LE3     </td><td>T       </td><td>1       </td><td>1       </td><td>at_home </td><td>other   </td><td>⋯       </td><td>yes     </td><td>yes     </td><td>4       </td><td>3       </td><td>2       </td><td>3       </td><td>10      </td><td> 7      </td><td> 8      </td><td>10      </td></tr>\n",
       "\t<tr><td>R       </td><td>F       </td><td>19      </td><td>U       </td><td>GT3     </td><td>T       </td><td>4       </td><td>2       </td><td>health  </td><td>services</td><td>⋯       </td><td>yes     </td><td>yes     </td><td>3       </td><td>2       </td><td>2       </td><td>5       </td><td> 2      </td><td>15      </td><td>14      </td><td>15      </td></tr>\n",
       "\t<tr><td>R       </td><td>F       </td><td>19      </td><td>U       </td><td>GT3     </td><td>T       </td><td>3       </td><td>3       </td><td>other   </td><td>other   </td><td>⋯       </td><td>yes     </td><td>no      </td><td>4       </td><td>3       </td><td>2       </td><td>5       </td><td> 4      </td><td> 6      </td><td>10      </td><td>10      </td></tr>\n",
       "\t<tr><td>R       </td><td>M       </td><td>19      </td><td>U       </td><td>LE3     </td><td>T       </td><td>4       </td><td>3       </td><td>services</td><td>other   </td><td>⋯       </td><td>yes     </td><td>yes     </td><td>5       </td><td>4       </td><td>2       </td><td>5       </td><td>10      </td><td>15      </td><td>15      </td><td>15      </td></tr>\n",
       "</tbody>\n",
       "</table>\n"
      ],
      "text/latex": [
       "\\begin{tabular}{r|lllllllllllllllllllllllllllll}\n",
       " school & sex & age & address & famsize & Pstatus & Medu & Fedu & Mjob & Fjob & ⋯ & higher & internet & famrel & freetime & goout & health & absences & G1 & G2 & G3\\\\\n",
       "\\hline\n",
       "\t R          & F          & 18         & U          & GT3        & A          & 4          & 4          & at\\_home  & teacher    & ⋯          & yes        & no         & 4          & 3          & 4          & 3          &  6         &  5         &  6         &  6        \\\\\n",
       "\t R          & F          & 19         & U          & GT3        & T          & 1          & 1          & at\\_home  & other      & ⋯          & yes        & yes        & 5          & 3          & 3          & 3          &  4         &  5         &  5         &  6        \\\\\n",
       "\t R          & F          & 19         & U          & LE3        & T          & 1          & 1          & at\\_home  & other      & ⋯          & yes        & yes        & 4          & 3          & 2          & 3          & 10         &  7         &  8         & 10        \\\\\n",
       "\t R        & F        & 19       & U        & GT3      & T        & 4        & 2        & health   & services & ⋯        & yes      & yes      & 3        & 2        & 2        & 5        &  2       & 15       & 14       & 15      \\\\\n",
       "\t R        & F        & 19       & U        & GT3      & T        & 3        & 3        & other    & other    & ⋯        & yes      & no       & 4        & 3        & 2        & 5        &  4       &  6       & 10       & 10      \\\\\n",
       "\t R        & M        & 19       & U        & LE3      & T        & 4        & 3        & services & other    & ⋯        & yes      & yes      & 5        & 4        & 2        & 5        & 10       & 15       & 15       & 15      \\\\\n",
       "\\end{tabular}\n"
      ],
      "text/markdown": [
       "\n",
       "school | sex | age | address | famsize | Pstatus | Medu | Fedu | Mjob | Fjob | ⋯ | higher | internet | famrel | freetime | goout | health | absences | G1 | G2 | G3 | \n",
       "|---|---|---|---|---|---|\n",
       "| R        | F        | 18       | U        | GT3      | A        | 4        | 4        | at_home  | teacher  | ⋯        | yes      | no       | 4        | 3        | 4        | 3        |  6       |  5       |  6       |  6       | \n",
       "| R        | F        | 19       | U        | GT3      | T        | 1        | 1        | at_home  | other    | ⋯        | yes      | yes      | 5        | 3        | 3        | 3        |  4       |  5       |  5       |  6       | \n",
       "| R        | F        | 19       | U        | LE3      | T        | 1        | 1        | at_home  | other    | ⋯        | yes      | yes      | 4        | 3        | 2        | 3        | 10       |  7       |  8       | 10       | \n",
       "| R        | F        | 19       | U        | GT3      | T        | 4        | 2        | health   | services | ⋯        | yes      | yes      | 3        | 2        | 2        | 5        |  2       | 15       | 14       | 15       | \n",
       "| R        | F        | 19       | U        | GT3      | T        | 3        | 3        | other    | other    | ⋯        | yes      | no       | 4        | 3        | 2        | 5        |  4       |  6       | 10       | 10       | \n",
       "| R        | M        | 19       | U        | LE3      | T        | 4        | 3        | services | other    | ⋯        | yes      | yes      | 5        | 4        | 2        | 5        | 10       | 15       | 15       | 15       | \n",
       "\n",
       "\n"
      ],
      "text/plain": [
       "  school sex age address famsize Pstatus Medu Fedu Mjob     Fjob     ⋯ higher\n",
       "1 R      F   18  U       GT3     A       4    4    at_home  teacher  ⋯ yes   \n",
       "2 R      F   19  U       GT3     T       1    1    at_home  other    ⋯ yes   \n",
       "3 R      F   19  U       LE3     T       1    1    at_home  other    ⋯ yes   \n",
       "4 R      F   19  U       GT3     T       4    2    health   services ⋯ yes   \n",
       "5 R      F   19  U       GT3     T       3    3    other    other    ⋯ yes   \n",
       "6 R      M   19  U       LE3     T       4    3    services other    ⋯ yes   \n",
       "  internet famrel freetime goout health absences G1 G2 G3\n",
       "1 no       4      3        4     3       6        5  6  6\n",
       "2 yes      5      3        3     3       4        5  5  6\n",
       "3 yes      4      3        2     3      10        7  8 10\n",
       "4 yes      3      2        2     5       2       15 14 15\n",
       "5 no       4      3        2     5       4        6 10 10\n",
       "6 yes      5      4        2     5      10       15 15 15"
      ]
     },
     "metadata": {},
     "output_type": "display_data"
    }
   ],
   "source": [
    "df <-df[ , -1]\n",
    "head(df)"
   ]
  },
  {
   "cell_type": "code",
   "execution_count": 5,
   "metadata": {
    "collapsed": false
   },
   "outputs": [
    {
     "data": {
      "text/plain": [
       " school   sex          age        address famsize   Pstatus      Medu      \n",
       " R :349   F:208   Min.   :18.00   R: 88   GT3:281   A: 41   Min.   :0.000  \n",
       " R1: 46   M:187   1st Qu.:19.00   U:307   LE3:114   T:354   1st Qu.:2.000  \n",
       "                  Median :19.00                             Median :3.000  \n",
       "                  Mean   :18.81                             Mean   :2.749  \n",
       "                  3rd Qu.:19.00                             3rd Qu.:4.000  \n",
       "                  Max.   :22.00                             Max.   :4.000  \n",
       "      Fedu             Mjob           Fjob            reason      traveltime   \n",
       " Min.   :0.000   at_home : 59   at_home : 20   course    :145   Min.   :1.000  \n",
       " 1st Qu.:2.000   health  : 34   health  : 18   home      :109   1st Qu.:1.000  \n",
       " Median :2.000   other   :141   other   :217   other     : 36   Median :1.000  \n",
       " Mean   :2.522   services:103   services:111   reputation:105   Mean   :1.448  \n",
       " 3rd Qu.:3.000   teacher : 58   teacher : 29                    3rd Qu.:2.000  \n",
       " Max.   :4.000                                                  Max.   :4.000  \n",
       "   studytime        failures      schoolsup famsup     paid     activities\n",
       " Min.   :1.000   Min.   :0.0000   no :344   no :153   no :214   no :194   \n",
       " 1st Qu.:1.000   1st Qu.:0.0000   yes: 51   yes:242   yes:181   yes:201   \n",
       " Median :2.000   Median :0.0000                                           \n",
       " Mean   :2.035   Mean   :0.3342                                           \n",
       " 3rd Qu.:2.000   3rd Qu.:0.0000                                           \n",
       " Max.   :4.000   Max.   :3.0000                                           \n",
       " nursery   higher    internet      famrel         freetime         goout      \n",
       " no : 81   no : 20   no : 66   Min.   :1.000   Min.   :1.000   Min.   :1.000  \n",
       " yes:314   yes:375   yes:329   1st Qu.:4.000   1st Qu.:3.000   1st Qu.:2.000  \n",
       "                               Median :4.000   Median :3.000   Median :3.000  \n",
       "                               Mean   :3.944   Mean   :3.235   Mean   :3.109  \n",
       "                               3rd Qu.:5.000   3rd Qu.:4.000   3rd Qu.:4.000  \n",
       "                               Max.   :5.000   Max.   :5.000   Max.   :5.000  \n",
       "     health         absences            G1              G2       \n",
       " Min.   :1.000   Min.   : 0.000   Min.   : 3.00   Min.   : 0.00  \n",
       " 1st Qu.:3.000   1st Qu.: 0.000   1st Qu.: 8.00   1st Qu.: 9.00  \n",
       " Median :4.000   Median : 4.000   Median :11.00   Median :11.00  \n",
       " Mean   :3.554   Mean   : 5.709   Mean   :10.91   Mean   :10.71  \n",
       " 3rd Qu.:5.000   3rd Qu.: 8.000   3rd Qu.:13.00   3rd Qu.:13.00  \n",
       " Max.   :5.000   Max.   :75.000   Max.   :19.00   Max.   :19.00  \n",
       "       G3       \n",
       " Min.   : 0.00  \n",
       " 1st Qu.: 8.00  \n",
       " Median :11.00  \n",
       " Mean   :10.42  \n",
       " 3rd Qu.:14.00  \n",
       " Max.   :20.00  "
      ]
     },
     "metadata": {},
     "output_type": "display_data"
    }
   ],
   "source": [
    "summary(df)"
   ]
  },
  {
   "cell_type": "code",
   "execution_count": 6,
   "metadata": {
    "collapsed": false
   },
   "outputs": [
    {
     "name": "stdout",
     "output_type": "stream",
     "text": [
      "'data.frame':\t395 obs. of  29 variables:\n",
      " $ school    : Factor w/ 2 levels \"R\",\"R1\": 1 1 1 1 1 1 1 1 1 1 ...\n",
      " $ sex       : Factor w/ 2 levels \"F\",\"M\": 1 1 1 1 1 2 2 1 2 2 ...\n",
      " $ age       : int  18 19 19 19 19 19 19 19 19 19 ...\n",
      " $ address   : Factor w/ 2 levels \"R\",\"U\": 2 2 2 2 2 2 2 2 2 2 ...\n",
      " $ famsize   : Factor w/ 2 levels \"GT3\",\"LE3\": 1 1 2 1 1 2 2 1 2 1 ...\n",
      " $ Pstatus   : Factor w/ 2 levels \"A\",\"T\": 1 2 2 2 2 2 2 1 1 2 ...\n",
      " $ Medu      : int  4 1 1 4 3 4 2 4 3 3 ...\n",
      " $ Fedu      : int  4 1 1 2 3 3 2 4 2 4 ...\n",
      " $ Mjob      : Factor w/ 5 levels \"at_home\",\"health\",..: 1 1 1 2 3 4 3 3 4 3 ...\n",
      " $ Fjob      : Factor w/ 5 levels \"at_home\",\"health\",..: 5 3 3 4 3 3 3 5 3 3 ...\n",
      " $ reason    : Factor w/ 4 levels \"course\",\"home\",..: 1 1 3 2 2 4 2 2 2 2 ...\n",
      " $ traveltime: int  2 1 1 1 1 1 1 2 1 1 ...\n",
      " $ studytime : int  2 2 2 3 2 2 2 2 2 2 ...\n",
      " $ failures  : int  0 0 3 0 0 0 0 0 0 0 ...\n",
      " $ schoolsup : Factor w/ 2 levels \"no\",\"yes\": 2 1 2 1 1 1 1 2 1 1 ...\n",
      " $ famsup    : Factor w/ 2 levels \"no\",\"yes\": 1 2 1 2 2 2 1 2 2 2 ...\n",
      " $ paid      : Factor w/ 2 levels \"no\",\"yes\": 1 1 2 2 2 2 1 1 2 2 ...\n",
      " $ activities: Factor w/ 2 levels \"no\",\"yes\": 1 1 1 2 1 2 1 1 1 2 ...\n",
      " $ nursery   : Factor w/ 2 levels \"no\",\"yes\": 2 1 2 2 2 2 2 2 2 2 ...\n",
      " $ higher    : Factor w/ 2 levels \"no\",\"yes\": 2 2 2 2 2 2 2 2 2 2 ...\n",
      " $ internet  : Factor w/ 2 levels \"no\",\"yes\": 1 2 2 2 1 2 2 1 2 2 ...\n",
      " $ famrel    : int  4 5 4 3 4 5 4 4 4 5 ...\n",
      " $ freetime  : int  3 3 3 2 3 4 4 1 2 5 ...\n",
      " $ goout     : int  4 3 2 2 2 2 4 4 2 1 ...\n",
      " $ health    : int  3 3 3 5 5 5 3 1 1 5 ...\n",
      " $ absences  : int  6 4 10 2 4 10 0 6 0 0 ...\n",
      " $ G1        : int  5 5 7 15 6 15 12 6 16 14 ...\n",
      " $ G2        : int  6 5 8 14 10 15 12 5 18 15 ...\n",
      " $ G3        : int  6 6 10 15 10 15 11 6 19 15 ...\n"
     ]
    }
   ],
   "source": [
    "str(df)"
   ]
  },
  {
   "cell_type": "code",
   "execution_count": 7,
   "metadata": {
    "collapsed": false
   },
   "outputs": [
    {
     "data": {
      "text/html": [
       "FALSE"
      ],
      "text/latex": [
       "FALSE"
      ],
      "text/markdown": [
       "FALSE"
      ],
      "text/plain": [
       "[1] FALSE"
      ]
     },
     "metadata": {},
     "output_type": "display_data"
    },
    {
     "data": {
      "text/html": [
       "FALSE"
      ],
      "text/latex": [
       "FALSE"
      ],
      "text/markdown": [
       "FALSE"
      ],
      "text/plain": [
       "[1] FALSE"
      ]
     },
     "metadata": {},
     "output_type": "display_data"
    }
   ],
   "source": [
    "any(is.na(df))\n",
    "any(is.na(df$age))"
   ]
  },
  {
   "cell_type": "code",
   "execution_count": 8,
   "metadata": {
    "collapsed": false
   },
   "outputs": [],
   "source": [
    "# Assumption: what is the mark of the final test"
   ]
  },
  {
   "cell_type": "code",
   "execution_count": 9,
   "metadata": {
    "collapsed": false
   },
   "outputs": [
    {
     "data": {
      "text/html": [
       "<table>\n",
       "<thead><tr><th scope=col>age</th><th scope=col>Medu</th><th scope=col>Fedu</th><th scope=col>traveltime</th><th scope=col>studytime</th><th scope=col>failures</th><th scope=col>famrel</th><th scope=col>freetime</th><th scope=col>goout</th><th scope=col>health</th><th scope=col>absences</th><th scope=col>G1</th><th scope=col>G2</th><th scope=col>G3</th></tr></thead>\n",
       "<tbody>\n",
       "\t<tr><td>18</td><td>4 </td><td>4 </td><td>2 </td><td>2 </td><td>0 </td><td>4 </td><td>3 </td><td>4 </td><td>3 </td><td> 6</td><td> 5</td><td> 6</td><td> 6</td></tr>\n",
       "\t<tr><td>19</td><td>1 </td><td>1 </td><td>1 </td><td>2 </td><td>0 </td><td>5 </td><td>3 </td><td>3 </td><td>3 </td><td> 4</td><td> 5</td><td> 5</td><td> 6</td></tr>\n",
       "\t<tr><td>19</td><td>1 </td><td>1 </td><td>1 </td><td>2 </td><td>3 </td><td>4 </td><td>3 </td><td>2 </td><td>3 </td><td>10</td><td> 7</td><td> 8</td><td>10</td></tr>\n",
       "\t<tr><td>19</td><td>4 </td><td>2 </td><td>1 </td><td>3 </td><td>0 </td><td>3 </td><td>2 </td><td>2 </td><td>5 </td><td> 2</td><td>15</td><td>14</td><td>15</td></tr>\n",
       "\t<tr><td>19</td><td>3 </td><td>3 </td><td>1 </td><td>2 </td><td>0 </td><td>4 </td><td>3 </td><td>2 </td><td>5 </td><td> 4</td><td> 6</td><td>10</td><td>10</td></tr>\n",
       "\t<tr><td>19</td><td>4 </td><td>3 </td><td>1 </td><td>2 </td><td>0 </td><td>5 </td><td>4 </td><td>2 </td><td>5 </td><td>10</td><td>15</td><td>15</td><td>15</td></tr>\n",
       "</tbody>\n",
       "</table>\n"
      ],
      "text/latex": [
       "\\begin{tabular}{r|llllllllllllll}\n",
       " age & Medu & Fedu & traveltime & studytime & failures & famrel & freetime & goout & health & absences & G1 & G2 & G3\\\\\n",
       "\\hline\n",
       "\t 18 & 4  & 4  & 2  & 2  & 0  & 4  & 3  & 4  & 3  &  6 &  5 &  6 &  6\\\\\n",
       "\t 19 & 1  & 1  & 1  & 2  & 0  & 5  & 3  & 3  & 3  &  4 &  5 &  5 &  6\\\\\n",
       "\t 19 & 1  & 1  & 1  & 2  & 3  & 4  & 3  & 2  & 3  & 10 &  7 &  8 & 10\\\\\n",
       "\t 19 & 4  & 2  & 1  & 3  & 0  & 3  & 2  & 2  & 5  &  2 & 15 & 14 & 15\\\\\n",
       "\t 19 & 3  & 3  & 1  & 2  & 0  & 4  & 3  & 2  & 5  &  4 &  6 & 10 & 10\\\\\n",
       "\t 19 & 4  & 3  & 1  & 2  & 0  & 5  & 4  & 2  & 5  & 10 & 15 & 15 & 15\\\\\n",
       "\\end{tabular}\n"
      ],
      "text/markdown": [
       "\n",
       "age | Medu | Fedu | traveltime | studytime | failures | famrel | freetime | goout | health | absences | G1 | G2 | G3 | \n",
       "|---|---|---|---|---|---|\n",
       "| 18 | 4  | 4  | 2  | 2  | 0  | 4  | 3  | 4  | 3  |  6 |  5 |  6 |  6 | \n",
       "| 19 | 1  | 1  | 1  | 2  | 0  | 5  | 3  | 3  | 3  |  4 |  5 |  5 |  6 | \n",
       "| 19 | 1  | 1  | 1  | 2  | 3  | 4  | 3  | 2  | 3  | 10 |  7 |  8 | 10 | \n",
       "| 19 | 4  | 2  | 1  | 3  | 0  | 3  | 2  | 2  | 5  |  2 | 15 | 14 | 15 | \n",
       "| 19 | 3  | 3  | 1  | 2  | 0  | 4  | 3  | 2  | 5  |  4 |  6 | 10 | 10 | \n",
       "| 19 | 4  | 3  | 1  | 2  | 0  | 5  | 4  | 2  | 5  | 10 | 15 | 15 | 15 | \n",
       "\n",
       "\n"
      ],
      "text/plain": [
       "  age Medu Fedu traveltime studytime failures famrel freetime goout health\n",
       "1 18  4    4    2          2         0        4      3        4     3     \n",
       "2 19  1    1    1          2         0        5      3        3     3     \n",
       "3 19  1    1    1          2         3        4      3        2     3     \n",
       "4 19  4    2    1          3         0        3      2        2     5     \n",
       "5 19  3    3    1          2         0        4      3        2     5     \n",
       "6 19  4    3    1          2         0        5      4        2     5     \n",
       "  absences G1 G2 G3\n",
       "1  6        5  6  6\n",
       "2  4        5  5  6\n",
       "3 10        7  8 10\n",
       "4  2       15 14 15\n",
       "5  4        6 10 10\n",
       "6 10       15 15 15"
      ]
     },
     "metadata": {},
     "output_type": "display_data"
    },
    {
     "data": {
      "text/html": [
       "<table>\n",
       "<thead><tr><th></th><th scope=col>age</th><th scope=col>Medu</th><th scope=col>Fedu</th><th scope=col>traveltime</th><th scope=col>studytime</th><th scope=col>failures</th><th scope=col>famrel</th><th scope=col>freetime</th><th scope=col>goout</th><th scope=col>health</th><th scope=col>absences</th><th scope=col>G1</th><th scope=col>G2</th><th scope=col>G3</th></tr></thead>\n",
       "<tbody>\n",
       "\t<tr><th scope=row>age</th><td> 1.000000000</td><td> 0.007290627</td><td>-0.027293193</td><td>-0.108984299</td><td>-0.094090884</td><td> 0.14571275 </td><td> 0.011506383</td><td> 0.10679849 </td><td>-0.049060257</td><td> 0.008010967</td><td>-0.003118663</td><td> 0.01200620 </td><td> 0.06253879 </td><td> 0.08118949 </td></tr>\n",
       "\t<tr><th scope=row>Medu</th><td> 0.007290627</td><td> 1.000000000</td><td> 0.623455112</td><td>-0.171639305</td><td> 0.064944137</td><td>-0.23667996 </td><td>-0.003914458</td><td> 0.03089087 </td><td> 0.064094438</td><td>-0.046877829</td><td> 0.100284818</td><td> 0.20534100 </td><td> 0.21552717 </td><td> 0.21714750 </td></tr>\n",
       "\t<tr><th scope=row>Fedu</th><td>-0.027293193</td><td> 0.623455112</td><td> 1.000000000</td><td>-0.158194054</td><td>-0.009174639</td><td>-0.25040844 </td><td>-0.001369727</td><td>-0.01284553 </td><td> 0.043104668</td><td> 0.014741537</td><td> 0.024472887</td><td> 0.19026994 </td><td> 0.16489339 </td><td> 0.15245694 </td></tr>\n",
       "\t<tr><th scope=row>traveltime</th><td>-0.108984299</td><td>-0.171639305</td><td>-0.158194054</td><td> 1.000000000</td><td>-0.100909119</td><td> 0.09223875 </td><td>-0.016807986</td><td>-0.01702494 </td><td> 0.028539674</td><td> 0.007500606</td><td>-0.012943775</td><td>-0.09303999 </td><td>-0.15319796 </td><td>-0.11714205 </td></tr>\n",
       "\t<tr><th scope=row>studytime</th><td>-0.094090884</td><td> 0.064944137</td><td>-0.009174639</td><td>-0.100909119</td><td> 1.000000000</td><td>-0.17356303 </td><td> 0.039730704</td><td>-0.14319841 </td><td>-0.063903675</td><td>-0.075615863</td><td>-0.062700175</td><td> 0.16061192 </td><td> 0.13588000 </td><td> 0.09781969 </td></tr>\n",
       "\t<tr><th scope=row>failures</th><td> 0.145712751</td><td>-0.236679963</td><td>-0.250408444</td><td> 0.092238746</td><td>-0.173563031</td><td> 1.00000000 </td><td>-0.044336626</td><td> 0.09198747 </td><td> 0.124560922</td><td> 0.065827282</td><td> 0.063725833</td><td>-0.35471761 </td><td>-0.35589563 </td><td>-0.36041494 </td></tr>\n",
       "\t<tr><th scope=row>famrel</th><td> 0.011506383</td><td>-0.003914458</td><td>-0.001369727</td><td>-0.016807986</td><td> 0.039730704</td><td>-0.04433663 </td><td> 1.000000000</td><td> 0.15070144 </td><td> 0.064568411</td><td> 0.094055728</td><td>-0.044354095</td><td> 0.02216832 </td><td>-0.01828135 </td><td> 0.05136343 </td></tr>\n",
       "\t<tr><th scope=row>freetime</th><td> 0.106798492</td><td> 0.030890867</td><td>-0.012845528</td><td>-0.017024944</td><td>-0.143198407</td><td> 0.09198747 </td><td> 0.150701444</td><td> 1.00000000 </td><td> 0.285018715</td><td> 0.075733357</td><td>-0.058077922</td><td> 0.01261293 </td><td>-0.01377714 </td><td> 0.01130724 </td></tr>\n",
       "\t<tr><th scope=row>goout</th><td>-0.049060257</td><td> 0.064094438</td><td> 0.043104668</td><td> 0.028539674</td><td>-0.063903675</td><td> 0.12456092 </td><td> 0.064568411</td><td> 0.28501871 </td><td> 1.000000000</td><td>-0.009577254</td><td> 0.044302220</td><td>-0.14910397 </td><td>-0.16225003 </td><td>-0.13279147 </td></tr>\n",
       "\t<tr><th scope=row>health</th><td> 0.008010967</td><td>-0.046877829</td><td> 0.014741537</td><td> 0.007500606</td><td>-0.075615863</td><td> 0.06582728 </td><td> 0.094055728</td><td> 0.07573336 </td><td>-0.009577254</td><td> 1.000000000</td><td>-0.029936711</td><td>-0.07317207 </td><td>-0.09771987 </td><td>-0.06133460 </td></tr>\n",
       "\t<tr><th scope=row>absences</th><td>-0.003118663</td><td> 0.100284818</td><td> 0.024472887</td><td>-0.012943775</td><td>-0.062700175</td><td> 0.06372583 </td><td>-0.044354095</td><td>-0.05807792 </td><td> 0.044302220</td><td>-0.029936711</td><td> 1.000000000</td><td>-0.03100290 </td><td>-0.03177670 </td><td> 0.03424732 </td></tr>\n",
       "\t<tr><th scope=row>G1</th><td> 0.012006198</td><td> 0.205340997</td><td> 0.190269936</td><td>-0.093039992</td><td> 0.160611915</td><td>-0.35471761 </td><td> 0.022168316</td><td> 0.01261293 </td><td>-0.149103967</td><td>-0.073172073</td><td>-0.031002901</td><td> 1.00000000 </td><td> 0.85211807 </td><td> 0.80146793 </td></tr>\n",
       "\t<tr><th scope=row>G2</th><td> 0.062538787</td><td> 0.215527168</td><td> 0.164893393</td><td>-0.153197963</td><td> 0.135879999</td><td>-0.35589563 </td><td>-0.018281347</td><td>-0.01377714 </td><td>-0.162250034</td><td>-0.097719866</td><td>-0.031776704</td><td> 0.85211807 </td><td> 1.00000000 </td><td> 0.90486799 </td></tr>\n",
       "\t<tr><th scope=row>G3</th><td> 0.081189488</td><td> 0.217147496</td><td> 0.152456939</td><td>-0.117142053</td><td> 0.097819690</td><td>-0.36041494 </td><td> 0.051363429</td><td> 0.01130724 </td><td>-0.132791474</td><td>-0.061334605</td><td> 0.034247316</td><td> 0.80146793 </td><td> 0.90486799 </td><td> 1.00000000 </td></tr>\n",
       "</tbody>\n",
       "</table>\n"
      ],
      "text/latex": [
       "\\begin{tabular}{r|llllllllllllll}\n",
       "  & age & Medu & Fedu & traveltime & studytime & failures & famrel & freetime & goout & health & absences & G1 & G2 & G3\\\\\n",
       "\\hline\n",
       "\tage &  1.000000000 &  0.007290627 & -0.027293193 & -0.108984299 & -0.094090884 &  0.14571275  &  0.011506383 &  0.10679849  & -0.049060257 &  0.008010967 & -0.003118663 &  0.01200620  &  0.06253879  &  0.08118949 \\\\\n",
       "\tMedu &  0.007290627 &  1.000000000 &  0.623455112 & -0.171639305 &  0.064944137 & -0.23667996  & -0.003914458 &  0.03089087  &  0.064094438 & -0.046877829 &  0.100284818 &  0.20534100  &  0.21552717  &  0.21714750 \\\\\n",
       "\tFedu & -0.027293193 &  0.623455112 &  1.000000000 & -0.158194054 & -0.009174639 & -0.25040844  & -0.001369727 & -0.01284553  &  0.043104668 &  0.014741537 &  0.024472887 &  0.19026994  &  0.16489339  &  0.15245694 \\\\\n",
       "\ttraveltime & -0.108984299 & -0.171639305 & -0.158194054 &  1.000000000 & -0.100909119 &  0.09223875  & -0.016807986 & -0.01702494  &  0.028539674 &  0.007500606 & -0.012943775 & -0.09303999  & -0.15319796  & -0.11714205 \\\\\n",
       "\tstudytime & -0.094090884 &  0.064944137 & -0.009174639 & -0.100909119 &  1.000000000 & -0.17356303  &  0.039730704 & -0.14319841  & -0.063903675 & -0.075615863 & -0.062700175 &  0.16061192  &  0.13588000  &  0.09781969 \\\\\n",
       "\tfailures &  0.145712751 & -0.236679963 & -0.250408444 &  0.092238746 & -0.173563031 &  1.00000000  & -0.044336626 &  0.09198747  &  0.124560922 &  0.065827282 &  0.063725833 & -0.35471761  & -0.35589563  & -0.36041494 \\\\\n",
       "\tfamrel &  0.011506383 & -0.003914458 & -0.001369727 & -0.016807986 &  0.039730704 & -0.04433663  &  1.000000000 &  0.15070144  &  0.064568411 &  0.094055728 & -0.044354095 &  0.02216832  & -0.01828135  &  0.05136343 \\\\\n",
       "\tfreetime &  0.106798492 &  0.030890867 & -0.012845528 & -0.017024944 & -0.143198407 &  0.09198747  &  0.150701444 &  1.00000000  &  0.285018715 &  0.075733357 & -0.058077922 &  0.01261293  & -0.01377714  &  0.01130724 \\\\\n",
       "\tgoout & -0.049060257 &  0.064094438 &  0.043104668 &  0.028539674 & -0.063903675 &  0.12456092  &  0.064568411 &  0.28501871  &  1.000000000 & -0.009577254 &  0.044302220 & -0.14910397  & -0.16225003  & -0.13279147 \\\\\n",
       "\thealth &  0.008010967 & -0.046877829 &  0.014741537 &  0.007500606 & -0.075615863 &  0.06582728  &  0.094055728 &  0.07573336  & -0.009577254 &  1.000000000 & -0.029936711 & -0.07317207  & -0.09771987  & -0.06133460 \\\\\n",
       "\tabsences & -0.003118663 &  0.100284818 &  0.024472887 & -0.012943775 & -0.062700175 &  0.06372583  & -0.044354095 & -0.05807792  &  0.044302220 & -0.029936711 &  1.000000000 & -0.03100290  & -0.03177670  &  0.03424732 \\\\\n",
       "\tG1 &  0.012006198 &  0.205340997 &  0.190269936 & -0.093039992 &  0.160611915 & -0.35471761  &  0.022168316 &  0.01261293  & -0.149103967 & -0.073172073 & -0.031002901 &  1.00000000  &  0.85211807  &  0.80146793 \\\\\n",
       "\tG2 &  0.062538787 &  0.215527168 &  0.164893393 & -0.153197963 &  0.135879999 & -0.35589563  & -0.018281347 & -0.01377714  & -0.162250034 & -0.097719866 & -0.031776704 &  0.85211807  &  1.00000000  &  0.90486799 \\\\\n",
       "\tG3 &  0.081189488 &  0.217147496 &  0.152456939 & -0.117142053 &  0.097819690 & -0.36041494  &  0.051363429 &  0.01130724  & -0.132791474 & -0.061334605 &  0.034247316 &  0.80146793  &  0.90486799  &  1.00000000 \\\\\n",
       "\\end{tabular}\n"
      ],
      "text/markdown": [
       "\n",
       "| <!--/--> | age | Medu | Fedu | traveltime | studytime | failures | famrel | freetime | goout | health | absences | G1 | G2 | G3 | \n",
       "|---|---|---|---|---|---|---|---|---|---|---|---|---|---|\n",
       "| age |  1.000000000 |  0.007290627 | -0.027293193 | -0.108984299 | -0.094090884 |  0.14571275  |  0.011506383 |  0.10679849  | -0.049060257 |  0.008010967 | -0.003118663 |  0.01200620  |  0.06253879  |  0.08118949  | \n",
       "| Medu |  0.007290627 |  1.000000000 |  0.623455112 | -0.171639305 |  0.064944137 | -0.23667996  | -0.003914458 |  0.03089087  |  0.064094438 | -0.046877829 |  0.100284818 |  0.20534100  |  0.21552717  |  0.21714750  | \n",
       "| Fedu | -0.027293193 |  0.623455112 |  1.000000000 | -0.158194054 | -0.009174639 | -0.25040844  | -0.001369727 | -0.01284553  |  0.043104668 |  0.014741537 |  0.024472887 |  0.19026994  |  0.16489339  |  0.15245694  | \n",
       "| traveltime | -0.108984299 | -0.171639305 | -0.158194054 |  1.000000000 | -0.100909119 |  0.09223875  | -0.016807986 | -0.01702494  |  0.028539674 |  0.007500606 | -0.012943775 | -0.09303999  | -0.15319796  | -0.11714205  | \n",
       "| studytime | -0.094090884 |  0.064944137 | -0.009174639 | -0.100909119 |  1.000000000 | -0.17356303  |  0.039730704 | -0.14319841  | -0.063903675 | -0.075615863 | -0.062700175 |  0.16061192  |  0.13588000  |  0.09781969  | \n",
       "| failures |  0.145712751 | -0.236679963 | -0.250408444 |  0.092238746 | -0.173563031 |  1.00000000  | -0.044336626 |  0.09198747  |  0.124560922 |  0.065827282 |  0.063725833 | -0.35471761  | -0.35589563  | -0.36041494  | \n",
       "| famrel |  0.011506383 | -0.003914458 | -0.001369727 | -0.016807986 |  0.039730704 | -0.04433663  |  1.000000000 |  0.15070144  |  0.064568411 |  0.094055728 | -0.044354095 |  0.02216832  | -0.01828135  |  0.05136343  | \n",
       "| freetime |  0.106798492 |  0.030890867 | -0.012845528 | -0.017024944 | -0.143198407 |  0.09198747  |  0.150701444 |  1.00000000  |  0.285018715 |  0.075733357 | -0.058077922 |  0.01261293  | -0.01377714  |  0.01130724  | \n",
       "| goout | -0.049060257 |  0.064094438 |  0.043104668 |  0.028539674 | -0.063903675 |  0.12456092  |  0.064568411 |  0.28501871  |  1.000000000 | -0.009577254 |  0.044302220 | -0.14910397  | -0.16225003  | -0.13279147  | \n",
       "| health |  0.008010967 | -0.046877829 |  0.014741537 |  0.007500606 | -0.075615863 |  0.06582728  |  0.094055728 |  0.07573336  | -0.009577254 |  1.000000000 | -0.029936711 | -0.07317207  | -0.09771987  | -0.06133460  | \n",
       "| absences | -0.003118663 |  0.100284818 |  0.024472887 | -0.012943775 | -0.062700175 |  0.06372583  | -0.044354095 | -0.05807792  |  0.044302220 | -0.029936711 |  1.000000000 | -0.03100290  | -0.03177670  |  0.03424732  | \n",
       "| G1 |  0.012006198 |  0.205340997 |  0.190269936 | -0.093039992 |  0.160611915 | -0.35471761  |  0.022168316 |  0.01261293  | -0.149103967 | -0.073172073 | -0.031002901 |  1.00000000  |  0.85211807  |  0.80146793  | \n",
       "| G2 |  0.062538787 |  0.215527168 |  0.164893393 | -0.153197963 |  0.135879999 | -0.35589563  | -0.018281347 | -0.01377714  | -0.162250034 | -0.097719866 | -0.031776704 |  0.85211807  |  1.00000000  |  0.90486799  | \n",
       "| G3 |  0.081189488 |  0.217147496 |  0.152456939 | -0.117142053 |  0.097819690 | -0.36041494  |  0.051363429 |  0.01130724  | -0.132791474 | -0.061334605 |  0.034247316 |  0.80146793  |  0.90486799  |  1.00000000  | \n",
       "\n",
       "\n"
      ],
      "text/plain": [
       "           age          Medu         Fedu         traveltime   studytime   \n",
       "age         1.000000000  0.007290627 -0.027293193 -0.108984299 -0.094090884\n",
       "Medu        0.007290627  1.000000000  0.623455112 -0.171639305  0.064944137\n",
       "Fedu       -0.027293193  0.623455112  1.000000000 -0.158194054 -0.009174639\n",
       "traveltime -0.108984299 -0.171639305 -0.158194054  1.000000000 -0.100909119\n",
       "studytime  -0.094090884  0.064944137 -0.009174639 -0.100909119  1.000000000\n",
       "failures    0.145712751 -0.236679963 -0.250408444  0.092238746 -0.173563031\n",
       "famrel      0.011506383 -0.003914458 -0.001369727 -0.016807986  0.039730704\n",
       "freetime    0.106798492  0.030890867 -0.012845528 -0.017024944 -0.143198407\n",
       "goout      -0.049060257  0.064094438  0.043104668  0.028539674 -0.063903675\n",
       "health      0.008010967 -0.046877829  0.014741537  0.007500606 -0.075615863\n",
       "absences   -0.003118663  0.100284818  0.024472887 -0.012943775 -0.062700175\n",
       "G1          0.012006198  0.205340997  0.190269936 -0.093039992  0.160611915\n",
       "G2          0.062538787  0.215527168  0.164893393 -0.153197963  0.135879999\n",
       "G3          0.081189488  0.217147496  0.152456939 -0.117142053  0.097819690\n",
       "           failures    famrel       freetime    goout        health      \n",
       "age         0.14571275  0.011506383  0.10679849 -0.049060257  0.008010967\n",
       "Medu       -0.23667996 -0.003914458  0.03089087  0.064094438 -0.046877829\n",
       "Fedu       -0.25040844 -0.001369727 -0.01284553  0.043104668  0.014741537\n",
       "traveltime  0.09223875 -0.016807986 -0.01702494  0.028539674  0.007500606\n",
       "studytime  -0.17356303  0.039730704 -0.14319841 -0.063903675 -0.075615863\n",
       "failures    1.00000000 -0.044336626  0.09198747  0.124560922  0.065827282\n",
       "famrel     -0.04433663  1.000000000  0.15070144  0.064568411  0.094055728\n",
       "freetime    0.09198747  0.150701444  1.00000000  0.285018715  0.075733357\n",
       "goout       0.12456092  0.064568411  0.28501871  1.000000000 -0.009577254\n",
       "health      0.06582728  0.094055728  0.07573336 -0.009577254  1.000000000\n",
       "absences    0.06372583 -0.044354095 -0.05807792  0.044302220 -0.029936711\n",
       "G1         -0.35471761  0.022168316  0.01261293 -0.149103967 -0.073172073\n",
       "G2         -0.35589563 -0.018281347 -0.01377714 -0.162250034 -0.097719866\n",
       "G3         -0.36041494  0.051363429  0.01130724 -0.132791474 -0.061334605\n",
       "           absences     G1          G2          G3         \n",
       "age        -0.003118663  0.01200620  0.06253879  0.08118949\n",
       "Medu        0.100284818  0.20534100  0.21552717  0.21714750\n",
       "Fedu        0.024472887  0.19026994  0.16489339  0.15245694\n",
       "traveltime -0.012943775 -0.09303999 -0.15319796 -0.11714205\n",
       "studytime  -0.062700175  0.16061192  0.13588000  0.09781969\n",
       "failures    0.063725833 -0.35471761 -0.35589563 -0.36041494\n",
       "famrel     -0.044354095  0.02216832 -0.01828135  0.05136343\n",
       "freetime   -0.058077922  0.01261293 -0.01377714  0.01130724\n",
       "goout       0.044302220 -0.14910397 -0.16225003 -0.13279147\n",
       "health     -0.029936711 -0.07317207 -0.09771987 -0.06133460\n",
       "absences    1.000000000 -0.03100290 -0.03177670  0.03424732\n",
       "G1         -0.031002901  1.00000000  0.85211807  0.80146793\n",
       "G2         -0.031776704  0.85211807  1.00000000  0.90486799\n",
       "G3          0.034247316  0.80146793  0.90486799  1.00000000"
      ]
     },
     "metadata": {},
     "output_type": "display_data"
    }
   ],
   "source": [
    "# We should work on numerical attributes\n",
    "num_cols <- sapply(df, is.numeric)\n",
    "df_n <- df[,num_cols]\n",
    "df_cor <- cor(df_n)\n",
    "head(df_n)\n",
    "df_cor"
   ]
  },
  {
   "cell_type": "markdown",
   "metadata": {},
   "source": [
    "### Find Correlation"
   ]
  },
  {
   "cell_type": "code",
   "execution_count": 10,
   "metadata": {
    "collapsed": false
   },
   "outputs": [
    {
     "data": {
      "image/png": "[encoded data removed]",
      "text/plain": [
       "Plot with title “”"
      ]
     },
     "metadata": {},
     "output_type": "display_data"
    }
   ],
   "source": [
    "# install.packages('corrplot')\n",
    "library(corrplot)\n",
    "corrplot(df_cor,method='color')"
   ]
  },
  {
   "cell_type": "code",
   "execution_count": 11,
   "metadata": {
    "collapsed": false
   },
   "outputs": [],
   "source": [
    "# install.packages('corrgram')\n",
    "# library(corrgram)"
   ]
  },
  {
   "cell_type": "markdown",
   "metadata": {
    "collapsed": true
   },
   "source": [
    "# Model"
   ]
  },
  {
   "cell_type": "code",
   "execution_count": 12,
   "metadata": {
    "collapsed": false
   },
   "outputs": [
    {
     "data": {
      "text/html": [
       "'R version 3.3.2 (2016-10-31)'"
      ],
      "text/latex": [
       "'R version 3.3.2 (2016-10-31)'"
      ],
      "text/markdown": [
       "'R version 3.3.2 (2016-10-31)'"
      ],
      "text/plain": [
       "[1] \"R version 3.3.2 (2016-10-31)\""
      ]
     },
     "metadata": {},
     "output_type": "display_data"
    }
   ],
   "source": [
    "R.version.string"
   ]
  },
  {
   "cell_type": "code",
   "execution_count": 13,
   "metadata": {
    "collapsed": false
   },
   "outputs": [
    {
     "name": "stdout",
     "output_type": "stream",
     "text": [
      "List of 2\n",
      " $ trainset:'data.frame':\t197 obs. of  29 variables:\n",
      "  ..$ school    : Factor w/ 2 levels \"R\",\"R1\": 1 1 1 1 1 1 1 1 1 1 ...\n",
      "  ..$ sex       : Factor w/ 2 levels \"F\",\"M\": 1 1 1 2 1 2 2 2 2 1 ...\n",
      "  ..$ age       : int [1:197] 19 19 18 19 19 19 19 19 19 19 ...\n",
      "  ..$ address   : Factor w/ 2 levels \"R\",\"U\": 2 2 2 2 2 2 2 1 2 2 ...\n",
      "  ..$ famsize   : Factor w/ 2 levels \"GT3\",\"LE3\": 1 1 1 2 1 1 2 1 2 1 ...\n",
      "  ..$ Pstatus   : Factor w/ 2 levels \"A\",\"T\": 2 2 2 1 2 2 2 2 2 2 ...\n",
      "  ..$ Medu      : int [1:197] 1 3 4 4 2 3 2 4 4 3 ...\n",
      "  ..$ Fedu      : int [1:197] 2 3 4 3 1 3 3 4 3 3 ...\n",
      "  ..$ Mjob      : Factor w/ 5 levels \"at_home\",\"health\",..: 1 3 2 4 3 3 4 5 2 3 ...\n",
      "  ..$ Fjob      : Factor w/ 5 levels \"at_home\",\"health\",..: 3 3 2 1 3 4 4 5 3 3 ...\n",
      "  ..$ reason    : Factor w/ 4 levels \"course\",\"home\",..: 1 4 4 4 1 2 4 1 1 4 ...\n",
      "  ..$ traveltime: int [1:197] 1 3 1 1 1 2 1 1 2 1 ...\n",
      "  ..$ studytime : int [1:197] 2 2 2 2 2 1 2 1 2 4 ...\n",
      "  ..$ failures  : int [1:197] 0 0 1 0 0 0 0 0 0 0 ...\n",
      "  ..$ schoolsup : Factor w/ 2 levels \"no\",\"yes\": 1 2 2 1 1 1 1 1 1 1 ...\n",
      "  ..$ famsup    : Factor w/ 2 levels \"no\",\"yes\": 2 2 2 2 2 1 2 1 1 2 ...\n",
      "  ..$ paid      : Factor w/ 2 levels \"no\",\"yes\": 2 1 1 1 2 1 2 2 1 2 ...\n",
      "  ..$ activities: Factor w/ 2 levels \"no\",\"yes\": 1 2 2 1 1 2 1 2 2 2 ...\n",
      "  ..$ nursery   : Factor w/ 2 levels \"no\",\"yes\": 1 2 2 2 2 2 1 2 2 2 ...\n",
      "  ..$ higher    : Factor w/ 2 levels \"no\",\"yes\": 2 2 2 2 2 2 2 2 2 2 ...\n",
      "  ..$ internet  : Factor w/ 2 levels \"no\",\"yes\": 2 1 2 2 1 2 2 2 2 2 ...\n",
      "  ..$ famrel    : int [1:197] 4 5 2 4 4 5 5 3 2 4 ...\n",
      "  ..$ freetime  : int [1:197] 3 3 4 3 3 4 3 5 5 3 ...\n",
      "  ..$ goout     : int [1:197] 2 2 4 1 5 2 3 5 5 3 ...\n",
      "  ..$ health    : int [1:197] 5 4 4 1 5 5 3 4 5 3 ...\n",
      "  ..$ absences  : int [1:197] 2 4 15 12 2 0 2 8 14 10 ...\n",
      "  ..$ G1        : int [1:197] 10 8 9 11 8 13 12 18 12 8 ...\n",
      "  ..$ G2        : int [1:197] 11 10 8 11 9 14 11 18 12 8 ...\n",
      "  ..$ G3        : int [1:197] 11 10 8 11 10 13 12 18 12 8 ...\n",
      " $ testset :'data.frame':\t198 obs. of  29 variables:\n",
      "  ..$ school    : Factor w/ 2 levels \"R\",\"R1\": 1 1 1 1 1 1 1 1 1 1 ...\n",
      "  ..$ sex       : Factor w/ 2 levels \"F\",\"M\": 1 1 1 2 2 1 2 1 2 2 ...\n",
      "  ..$ age       : int [1:198] 18 19 19 19 19 19 19 19 19 19 ...\n",
      "  ..$ address   : Factor w/ 2 levels \"R\",\"U\": 2 2 2 2 2 2 2 2 2 2 ...\n",
      "  ..$ famsize   : Factor w/ 2 levels \"GT3\",\"LE3\": 1 2 1 2 1 1 2 1 2 1 ...\n",
      "  ..$ Pstatus   : Factor w/ 2 levels \"A\",\"T\": 1 2 2 2 2 2 2 2 1 2 ...\n",
      "  ..$ Medu      : int [1:198] 4 1 3 4 4 4 4 2 3 4 ...\n",
      "  ..$ Fedu      : int [1:198] 4 1 3 4 3 4 3 2 4 4 ...\n",
      "  ..$ Mjob      : Factor w/ 5 levels \"at_home\",\"health\",..: 1 1 3 2 5 4 2 4 4 5 ...\n",
      "  ..$ Fjob      : Factor w/ 5 levels \"at_home\",\"health\",..: 5 3 3 4 3 4 3 4 3 5 ...\n",
      "  ..$ reason    : Factor w/ 4 levels \"course\",\"home\",..: 1 3 2 1 1 4 2 2 2 2 ...\n",
      "  ..$ traveltime: int [1:198] 2 1 1 1 2 1 1 1 1 1 ...\n",
      "  ..$ studytime : int [1:198] 2 2 2 1 2 3 1 1 2 2 ...\n",
      "  ..$ failures  : int [1:198] 0 3 0 0 0 0 0 2 0 0 ...\n",
      "  ..$ schoolsup : Factor w/ 2 levels \"no\",\"yes\": 2 2 1 1 1 1 1 1 2 1 ...\n",
      "  ..$ famsup    : Factor w/ 2 levels \"no\",\"yes\": 1 1 2 2 2 2 1 2 2 2 ...\n",
      "  ..$ paid      : Factor w/ 2 levels \"no\",\"yes\": 1 2 2 2 2 2 2 2 1 2 ...\n",
      "  ..$ activities: Factor w/ 2 levels \"no\",\"yes\": 1 1 1 2 1 2 2 1 2 2 ...\n",
      "  ..$ nursery   : Factor w/ 2 levels \"no\",\"yes\": 2 2 2 2 2 2 2 1 2 2 ...\n",
      "  ..$ higher    : Factor w/ 2 levels \"no\",\"yes\": 2 2 2 2 2 2 2 2 2 2 ...\n",
      "  ..$ internet  : Factor w/ 2 levels \"no\",\"yes\": 1 2 1 2 2 2 2 2 2 2 ...\n",
      "  ..$ famrel    : int [1:198] 4 4 4 4 5 3 3 1 5 4 ...\n",
      "  ..$ freetime  : int [1:198] 3 3 3 3 4 2 1 2 3 4 ...\n",
      "  ..$ goout     : int [1:198] 4 2 2 3 3 3 3 2 3 5 ...\n",
      "  ..$ health    : int [1:198] 3 3 5 5 3 2 5 5 5 5 ...\n",
      "  ..$ absences  : int [1:198] 6 10 4 2 2 6 4 14 4 16 ...\n",
      "  ..$ G1        : int [1:198] 5 7 6 14 10 13 8 6 11 10 ...\n",
      "  ..$ G2        : int [1:198] 6 8 10 14 10 14 10 9 11 12 ...\n",
      "  ..$ G3        : int [1:198] 6 10 10 14 11 14 10 8 11 11 ...\n"
     ]
    },
    {
     "data": {
      "text/html": [
       "<dl>\n",
       "\t<dt>$trainset</dt>\n",
       "\t\t<dd>197</dd>\n",
       "\t<dt>$testset</dt>\n",
       "\t\t<dd>198</dd>\n",
       "</dl>\n"
      ],
      "text/latex": [
       "\\begin{description}\n",
       "\\item[\\$trainset] 197\n",
       "\\item[\\$testset] 198\n",
       "\\end{description}\n"
      ],
      "text/markdown": [
       "$trainset\n",
       ":   197\n",
       "$testset\n",
       ":   198\n",
       "\n",
       "\n"
      ],
      "text/plain": [
       "$trainset\n",
       "[1] 197\n",
       "\n",
       "$testset\n",
       "[1] 198\n"
      ]
     },
     "metadata": {},
     "output_type": "display_data"
    },
    {
     "data": {
      "text/html": [
       "<dl>\n",
       "\t<dt>$trainset</dt>\n",
       "\t\t<dd><table>\n",
       "<thead><tr><th></th><th scope=col>school</th><th scope=col>sex</th><th scope=col>age</th><th scope=col>address</th><th scope=col>famsize</th><th scope=col>Pstatus</th><th scope=col>Medu</th><th scope=col>Fedu</th><th scope=col>Mjob</th><th scope=col>Fjob</th><th scope=col>⋯</th><th scope=col>higher</th><th scope=col>internet</th><th scope=col>famrel</th><th scope=col>freetime</th><th scope=col>goout</th><th scope=col>health</th><th scope=col>absences</th><th scope=col>G1</th><th scope=col>G2</th><th scope=col>G3</th></tr></thead>\n",
       "<tbody>\n",
       "\t<tr><th scope=row>148</th><td>R       </td><td>F       </td><td>19      </td><td>U       </td><td>GT3     </td><td>T       </td><td>1       </td><td>2       </td><td>at_home </td><td>other   </td><td>⋯       </td><td>yes     </td><td>yes     </td><td>4       </td><td>3       </td><td>2       </td><td>5       </td><td> 2      </td><td>10      </td><td>11      </td><td>11      </td></tr>\n",
       "\t<tr><th scope=row>18</th><td>R       </td><td>F       </td><td>19      </td><td>U       </td><td>GT3     </td><td>T       </td><td>3       </td><td>3       </td><td>other   </td><td>other   </td><td>⋯       </td><td>yes     </td><td>no      </td><td>5       </td><td>3       </td><td>2       </td><td>4       </td><td> 4      </td><td> 8      </td><td>10      </td><td>10      </td></tr>\n",
       "\t<tr><th scope=row>279</th><td>R       </td><td>F       </td><td>18      </td><td>U       </td><td>GT3     </td><td>T       </td><td>4       </td><td>4       </td><td>health  </td><td>health  </td><td>⋯       </td><td>yes     </td><td>yes     </td><td>2       </td><td>4       </td><td>4       </td><td>4       </td><td>15      </td><td> 9      </td><td> 8      </td><td> 8      </td></tr>\n",
       "\t<tr><th scope=row>258</th><td>R       </td><td>M       </td><td>19      </td><td>U       </td><td>LE3     </td><td>A       </td><td>4       </td><td>3       </td><td>services</td><td>at_home </td><td>⋯       </td><td>yes     </td><td>yes     </td><td>4       </td><td>3       </td><td>1       </td><td>1       </td><td>12      </td><td>11      </td><td>11      </td><td>11      </td></tr>\n",
       "\t<tr><th scope=row>98</th><td>R       </td><td>F       </td><td>19      </td><td>U       </td><td>GT3     </td><td>T       </td><td>2       </td><td>1       </td><td>other   </td><td>other   </td><td>⋯       </td><td>yes     </td><td>no      </td><td>4       </td><td>3       </td><td>5       </td><td>5       </td><td> 2      </td><td> 8      </td><td> 9      </td><td>10      </td></tr>\n",
       "\t<tr><th scope=row>118</th><td>R       </td><td>M       </td><td>19      </td><td>U       </td><td>GT3     </td><td>T       </td><td>3       </td><td>3       </td><td>other   </td><td>services</td><td>⋯       </td><td>yes     </td><td>yes     </td><td>5       </td><td>4       </td><td>2       </td><td>5       </td><td> 0      </td><td>13      </td><td>14      </td><td>13      </td></tr>\n",
       "</tbody>\n",
       "</table>\n",
       "</dd>\n",
       "\t<dt>$testset</dt>\n",
       "\t\t<dd><table>\n",
       "<thead><tr><th></th><th scope=col>school</th><th scope=col>sex</th><th scope=col>age</th><th scope=col>address</th><th scope=col>famsize</th><th scope=col>Pstatus</th><th scope=col>Medu</th><th scope=col>Fedu</th><th scope=col>Mjob</th><th scope=col>Fjob</th><th scope=col>⋯</th><th scope=col>higher</th><th scope=col>internet</th><th scope=col>famrel</th><th scope=col>freetime</th><th scope=col>goout</th><th scope=col>health</th><th scope=col>absences</th><th scope=col>G1</th><th scope=col>G2</th><th scope=col>G3</th></tr></thead>\n",
       "<tbody>\n",
       "\t<tr><th scope=row>1</th><td>R       </td><td>F       </td><td>18      </td><td>U       </td><td>GT3     </td><td>A       </td><td>4       </td><td>4       </td><td>at_home </td><td>teacher </td><td>⋯       </td><td>yes     </td><td>no      </td><td>4       </td><td>3       </td><td>4       </td><td>3       </td><td> 6      </td><td> 5      </td><td> 6      </td><td> 6      </td></tr>\n",
       "\t<tr><th scope=row>3</th><td>R       </td><td>F       </td><td>19      </td><td>U       </td><td>LE3     </td><td>T       </td><td>1       </td><td>1       </td><td>at_home </td><td>other   </td><td>⋯       </td><td>yes     </td><td>yes     </td><td>4       </td><td>3       </td><td>2       </td><td>3       </td><td>10      </td><td> 7      </td><td> 8      </td><td>10      </td></tr>\n",
       "\t<tr><th scope=row>5</th><td>R       </td><td>F       </td><td>19      </td><td>U       </td><td>GT3     </td><td>T       </td><td>3       </td><td>3       </td><td>other   </td><td>other   </td><td>⋯       </td><td>yes     </td><td>no      </td><td>4       </td><td>3       </td><td>2       </td><td>5       </td><td> 4      </td><td> 6      </td><td>10      </td><td>10      </td></tr>\n",
       "\t<tr><th scope=row>13</th><td>R       </td><td>M       </td><td>19      </td><td>U       </td><td>LE3     </td><td>T       </td><td>4       </td><td>4       </td><td>health  </td><td>services</td><td>⋯       </td><td>yes     </td><td>yes     </td><td>4       </td><td>3       </td><td>3       </td><td>5       </td><td> 2      </td><td>14      </td><td>14      </td><td>14      </td></tr>\n",
       "\t<tr><th scope=row>14</th><td>R       </td><td>M       </td><td>19      </td><td>U       </td><td>GT3     </td><td>T       </td><td>4       </td><td>3       </td><td>teacher </td><td>other   </td><td>⋯       </td><td>yes     </td><td>yes     </td><td>5       </td><td>4       </td><td>3       </td><td>3       </td><td> 2      </td><td>10      </td><td>10      </td><td>11      </td></tr>\n",
       "\t<tr><th scope=row>17</th><td>R       </td><td>F       </td><td>19      </td><td>U       </td><td>GT3     </td><td>T       </td><td>4       </td><td>4       </td><td>services</td><td>services</td><td>⋯       </td><td>yes     </td><td>yes     </td><td>3       </td><td>2       </td><td>3       </td><td>2       </td><td> 6      </td><td>13      </td><td>14      </td><td>14      </td></tr>\n",
       "</tbody>\n",
       "</table>\n",
       "</dd>\n",
       "</dl>\n"
      ],
      "text/latex": [
       "\\begin{description}\n",
       "\\item[\\$trainset] \\begin{tabular}{r|lllllllllllllllllllllllllllll}\n",
       "  & school & sex & age & address & famsize & Pstatus & Medu & Fedu & Mjob & Fjob & ⋯ & higher & internet & famrel & freetime & goout & health & absences & G1 & G2 & G3\\\\\n",
       "\\hline\n",
       "\t148 & R          & F          & 19         & U          & GT3        & T          & 1          & 2          & at\\_home  & other      & ⋯          & yes        & yes        & 4          & 3          & 2          & 5          &  2         & 10         & 11         & 11        \\\\\n",
       "\t18 & R        & F        & 19       & U        & GT3      & T        & 3        & 3        & other    & other    & ⋯        & yes      & no       & 5        & 3        & 2        & 4        &  4       &  8       & 10       & 10      \\\\\n",
       "\t279 & R        & F        & 18       & U        & GT3      & T        & 4        & 4        & health   & health   & ⋯        & yes      & yes      & 2        & 4        & 4        & 4        & 15       &  9       &  8       &  8      \\\\\n",
       "\t258 & R          & M          & 19         & U          & LE3        & A          & 4          & 3          & services   & at\\_home  & ⋯          & yes        & yes        & 4          & 3          & 1          & 1          & 12         & 11         & 11         & 11        \\\\\n",
       "\t98 & R        & F        & 19       & U        & GT3      & T        & 2        & 1        & other    & other    & ⋯        & yes      & no       & 4        & 3        & 5        & 5        &  2       &  8       &  9       & 10      \\\\\n",
       "\t118 & R        & M        & 19       & U        & GT3      & T        & 3        & 3        & other    & services & ⋯        & yes      & yes      & 5        & 4        & 2        & 5        &  0       & 13       & 14       & 13      \\\\\n",
       "\\end{tabular}\n",
       "\n",
       "\\item[\\$testset] \\begin{tabular}{r|lllllllllllllllllllllllllllll}\n",
       "  & school & sex & age & address & famsize & Pstatus & Medu & Fedu & Mjob & Fjob & ⋯ & higher & internet & famrel & freetime & goout & health & absences & G1 & G2 & G3\\\\\n",
       "\\hline\n",
       "\t1 & R          & F          & 18         & U          & GT3        & A          & 4          & 4          & at\\_home  & teacher    & ⋯          & yes        & no         & 4          & 3          & 4          & 3          &  6         &  5         &  6         &  6        \\\\\n",
       "\t3 & R          & F          & 19         & U          & LE3        & T          & 1          & 1          & at\\_home  & other      & ⋯          & yes        & yes        & 4          & 3          & 2          & 3          & 10         &  7         &  8         & 10        \\\\\n",
       "\t5 & R        & F        & 19       & U        & GT3      & T        & 3        & 3        & other    & other    & ⋯        & yes      & no       & 4        & 3        & 2        & 5        &  4       &  6       & 10       & 10      \\\\\n",
       "\t13 & R        & M        & 19       & U        & LE3      & T        & 4        & 4        & health   & services & ⋯        & yes      & yes      & 4        & 3        & 3        & 5        &  2       & 14       & 14       & 14      \\\\\n",
       "\t14 & R        & M        & 19       & U        & GT3      & T        & 4        & 3        & teacher  & other    & ⋯        & yes      & yes      & 5        & 4        & 3        & 3        &  2       & 10       & 10       & 11      \\\\\n",
       "\t17 & R        & F        & 19       & U        & GT3      & T        & 4        & 4        & services & services & ⋯        & yes      & yes      & 3        & 2        & 3        & 2        &  6       & 13       & 14       & 14      \\\\\n",
       "\\end{tabular}\n",
       "\n",
       "\\end{description}\n"
      ],
      "text/markdown": [
       "$trainset\n",
       ":   \n",
       "| <!--/--> | school | sex | age | address | famsize | Pstatus | Medu | Fedu | Mjob | Fjob | ⋯ | higher | internet | famrel | freetime | goout | health | absences | G1 | G2 | G3 | \n",
       "|---|---|---|---|---|---|\n",
       "| 148 | R        | F        | 19       | U        | GT3      | T        | 1        | 2        | at_home  | other    | ⋯        | yes      | yes      | 4        | 3        | 2        | 5        |  2       | 10       | 11       | 11       | \n",
       "| 18 | R        | F        | 19       | U        | GT3      | T        | 3        | 3        | other    | other    | ⋯        | yes      | no       | 5        | 3        | 2        | 4        |  4       |  8       | 10       | 10       | \n",
       "| 279 | R        | F        | 18       | U        | GT3      | T        | 4        | 4        | health   | health   | ⋯        | yes      | yes      | 2        | 4        | 4        | 4        | 15       |  9       |  8       |  8       | \n",
       "| 258 | R        | M        | 19       | U        | LE3      | A        | 4        | 3        | services | at_home  | ⋯        | yes      | yes      | 4        | 3        | 1        | 1        | 12       | 11       | 11       | 11       | \n",
       "| 98 | R        | F        | 19       | U        | GT3      | T        | 2        | 1        | other    | other    | ⋯        | yes      | no       | 4        | 3        | 5        | 5        |  2       |  8       |  9       | 10       | \n",
       "| 118 | R        | M        | 19       | U        | GT3      | T        | 3        | 3        | other    | services | ⋯        | yes      | yes      | 5        | 4        | 2        | 5        |  0       | 13       | 14       | 13       | \n",
       "\n",
       "\n",
       "\n",
       "$testset\n",
       ":   \n",
       "| <!--/--> | school | sex | age | address | famsize | Pstatus | Medu | Fedu | Mjob | Fjob | ⋯ | higher | internet | famrel | freetime | goout | health | absences | G1 | G2 | G3 | \n",
       "|---|---|---|---|---|---|\n",
       "| 1 | R        | F        | 18       | U        | GT3      | A        | 4        | 4        | at_home  | teacher  | ⋯        | yes      | no       | 4        | 3        | 4        | 3        |  6       |  5       |  6       |  6       | \n",
       "| 3 | R        | F        | 19       | U        | LE3      | T        | 1        | 1        | at_home  | other    | ⋯        | yes      | yes      | 4        | 3        | 2        | 3        | 10       |  7       |  8       | 10       | \n",
       "| 5 | R        | F        | 19       | U        | GT3      | T        | 3        | 3        | other    | other    | ⋯        | yes      | no       | 4        | 3        | 2        | 5        |  4       |  6       | 10       | 10       | \n",
       "| 13 | R        | M        | 19       | U        | LE3      | T        | 4        | 4        | health   | services | ⋯        | yes      | yes      | 4        | 3        | 3        | 5        |  2       | 14       | 14       | 14       | \n",
       "| 14 | R        | M        | 19       | U        | GT3      | T        | 4        | 3        | teacher  | other    | ⋯        | yes      | yes      | 5        | 4        | 3        | 3        |  2       | 10       | 10       | 11       | \n",
       "| 17 | R        | F        | 19       | U        | GT3      | T        | 4        | 4        | services | services | ⋯        | yes      | yes      | 3        | 2        | 3        | 2        |  6       | 13       | 14       | 14       | \n",
       "\n",
       "\n",
       "\n",
       "\n",
       "\n"
      ],
      "text/plain": [
       "$trainset\n",
       "    school sex age address famsize Pstatus Medu Fedu     Mjob     Fjob\n",
       "148      R   F  19       U     GT3       T    1    2  at_home    other\n",
       "18       R   F  19       U     GT3       T    3    3    other    other\n",
       "279      R   F  18       U     GT3       T    4    4   health   health\n",
       "258      R   M  19       U     LE3       A    4    3 services  at_home\n",
       "98       R   F  19       U     GT3       T    2    1    other    other\n",
       "118      R   M  19       U     GT3       T    3    3    other services\n",
       "        reason traveltime studytime failures schoolsup famsup paid activities\n",
       "148     course          1         2        0        no    yes  yes         no\n",
       "18  reputation          3         2        0       yes    yes   no        yes\n",
       "279 reputation          1         2        1       yes    yes   no        yes\n",
       "258 reputation          1         2        0        no    yes   no         no\n",
       "98      course          1         2        0        no    yes  yes         no\n",
       "118       home          2         1        0        no     no   no        yes\n",
       "    nursery higher internet famrel freetime goout health absences G1 G2 G3\n",
       "148      no    yes      yes      4        3     2      5        2 10 11 11\n",
       "18      yes    yes       no      5        3     2      4        4  8 10 10\n",
       "279     yes    yes      yes      2        4     4      4       15  9  8  8\n",
       "258     yes    yes      yes      4        3     1      1       12 11 11 11\n",
       "98      yes    yes       no      4        3     5      5        2  8  9 10\n",
       "118     yes    yes      yes      5        4     2      5        0 13 14 13\n",
       "\n",
       "$testset\n",
       "   school sex age address famsize Pstatus Medu Fedu     Mjob     Fjob\n",
       "1       R   F  18       U     GT3       A    4    4  at_home  teacher\n",
       "3       R   F  19       U     LE3       T    1    1  at_home    other\n",
       "5       R   F  19       U     GT3       T    3    3    other    other\n",
       "13      R   M  19       U     LE3       T    4    4   health services\n",
       "14      R   M  19       U     GT3       T    4    3  teacher    other\n",
       "17      R   F  19       U     GT3       T    4    4 services services\n",
       "       reason traveltime studytime failures schoolsup famsup paid activities\n",
       "1      course          2         2        0       yes     no   no         no\n",
       "3       other          1         2        3       yes     no  yes         no\n",
       "5        home          1         2        0        no    yes  yes         no\n",
       "13     course          1         1        0        no    yes  yes        yes\n",
       "14     course          2         2        0        no    yes  yes         no\n",
       "17 reputation          1         3        0        no    yes  yes        yes\n",
       "   nursery higher internet famrel freetime goout health absences G1 G2 G3\n",
       "1      yes    yes       no      4        3     4      3        6  5  6  6\n",
       "3      yes    yes      yes      4        3     2      3       10  7  8 10\n",
       "5      yes    yes       no      4        3     2      5        4  6 10 10\n",
       "13     yes    yes      yes      4        3     3      5        2 14 14 14\n",
       "14     yes    yes      yes      5        4     3      3        2 10 10 11\n",
       "17     yes    yes      yes      3        2     3      2        6 13 14 14\n"
      ]
     },
     "metadata": {},
     "output_type": "display_data"
    }
   ],
   "source": [
    "splitdf <- function(dataframe, seed=NULL) {\n",
    "    if (!is.null(seed)) set.seed(seed)\n",
    "    index <- 1:nrow(dataframe)\n",
    "    trainindex <- sample(index, trunc(length(index)/2))\n",
    "    trainset <- dataframe[trainindex, ]\n",
    "    testset <- dataframe[-trainindex, ]\n",
    "    list(trainset=trainset,testset=testset)\n",
    "}\n",
    "splits <- splitdf(df, seed=101)\n",
    "str(splits)\n",
    "lapply(splits,nrow)\n",
    "lapply(splits,head)\n",
    "training <- splits$trainset\n",
    "testing <- splits$testset"
   ]
  },
  {
   "cell_type": "code",
   "execution_count": 14,
   "metadata": {
    "collapsed": true
   },
   "outputs": [],
   "source": [
    "model <- lm(G3 ~ .,training)"
   ]
  },
  {
   "cell_type": "code",
   "execution_count": 15,
   "metadata": {
    "collapsed": false
   },
   "outputs": [
    {
     "data": {
      "text/plain": [
       "\n",
       "Call:\n",
       "lm(formula = G3 ~ ., data = training)\n",
       "\n",
       "Residuals:\n",
       "    Min      1Q  Median      3Q     Max \n",
       "-7.6698 -0.6731  0.1042  0.9826  3.5997 \n",
       "\n",
       "Coefficients:\n",
       "                   Estimate Std. Error t value Pr(>|t|)    \n",
       "(Intercept)      -13.466661   5.966688  -2.257 0.025363 *  \n",
       "schoolR1          -0.341961   0.506753  -0.675 0.500771    \n",
       "sexM               0.116787   0.313519   0.373 0.710010    \n",
       "age                0.576458   0.302831   1.904 0.058762 .  \n",
       "addressU           0.244048   0.376311   0.649 0.517574    \n",
       "famsizeLE3        -0.214485   0.322948  -0.664 0.507553    \n",
       "PstatusT          -0.390821   0.448704  -0.871 0.385059    \n",
       "Medu               0.154735   0.232964   0.664 0.507518    \n",
       "Fedu              -0.122297   0.184060  -0.664 0.507364    \n",
       "Mjobhealth         0.519124   0.745296   0.697 0.487106    \n",
       "Mjobother          0.403147   0.508690   0.793 0.429231    \n",
       "Mjobservices       0.793150   0.564846   1.404 0.162201    \n",
       "Mjobteacher        0.564414   0.705305   0.800 0.424757    \n",
       "Fjobhealth         1.137717   0.937437   1.214 0.226672    \n",
       "Fjobother          0.973847   0.716267   1.360 0.175865    \n",
       "Fjobservices       0.623274   0.735987   0.847 0.398341    \n",
       "Fjobteacher        0.709055   0.933464   0.760 0.448614    \n",
       "reasonhome        -0.668752   0.354280  -1.888 0.060886 .  \n",
       "reasonother       -0.383636   0.527179  -0.728 0.467851    \n",
       "reasonreputation  -0.345900   0.368228  -0.939 0.348961    \n",
       "traveltime         0.347066   0.241307   1.438 0.152309    \n",
       "studytime         -0.141393   0.199637  -0.708 0.479820    \n",
       "failures          -0.803113   0.225024  -3.569 0.000473 ***\n",
       "schoolsupyes       0.457296   0.445374   1.027 0.306079    \n",
       "famsupyes          0.519402   0.309039   1.681 0.094772 .  \n",
       "paidyes            0.474313   0.294275   1.612 0.108975    \n",
       "activitiesyes     -0.351927   0.288527  -1.220 0.224360    \n",
       "nurseryyes        -0.207913   0.347263  -0.599 0.550206    \n",
       "higheryes         -0.791390   0.659183  -1.201 0.231696    \n",
       "internetyes       -0.127388   0.414569  -0.307 0.759031    \n",
       "famrel             0.152853   0.153281   0.997 0.320171    \n",
       "freetime           0.023485   0.155843   0.151 0.880406    \n",
       "goout              0.055260   0.128834   0.429 0.668553    \n",
       "health            -0.005112   0.098106  -0.052 0.958507    \n",
       "absences           0.022724   0.018102   1.255 0.211198    \n",
       "G1                 0.189848   0.089014   2.133 0.034467 *  \n",
       "G2                 0.910369   0.073081  12.457  < 2e-16 ***\n",
       "---\n",
       "Signif. codes:  0 ‘***’ 0.001 ‘**’ 0.01 ‘*’ 0.05 ‘.’ 0.1 ‘ ’ 1\n",
       "\n",
       "Residual standard error: 1.773 on 160 degrees of freedom\n",
       "Multiple R-squared:  0.8842,\tAdjusted R-squared:  0.8581 \n",
       "F-statistic: 33.92 on 36 and 160 DF,  p-value: < 2.2e-16\n"
      ]
     },
     "metadata": {},
     "output_type": "display_data"
    }
   ],
   "source": [
    "summary(model)"
   ]
  },
  {
   "cell_type": "code",
   "execution_count": 16,
   "metadata": {
    "collapsed": false
   },
   "outputs": [
    {
     "data": {
      "text/html": [
       "<table>\n",
       "<thead><tr><th></th><th scope=col>res</th></tr></thead>\n",
       "<tbody>\n",
       "\t<tr><th scope=row>148</th><td>-0.08728234</td></tr>\n",
       "\t<tr><th scope=row>18</th><td>-0.48971392</td></tr>\n",
       "\t<tr><th scope=row>279</th><td> 1.10457124</td></tr>\n",
       "\t<tr><th scope=row>258</th><td> 0.10423200</td></tr>\n",
       "\t<tr><th scope=row>98</th><td> 0.34771643</td></tr>\n",
       "\t<tr><th scope=row>118</th><td>-0.14151007</td></tr>\n",
       "</tbody>\n",
       "</table>\n"
      ],
      "text/latex": [
       "\\begin{tabular}{r|l}\n",
       "  & res\\\\\n",
       "\\hline\n",
       "\t148 & -0.08728234\\\\\n",
       "\t18 & -0.48971392\\\\\n",
       "\t279 &  1.10457124\\\\\n",
       "\t258 &  0.10423200\\\\\n",
       "\t98 &  0.34771643\\\\\n",
       "\t118 & -0.14151007\\\\\n",
       "\\end{tabular}\n"
      ],
      "text/markdown": [
       "\n",
       "| <!--/--> | res | \n",
       "|---|---|---|---|---|---|\n",
       "| 148 | -0.08728234 | \n",
       "| 18 | -0.48971392 | \n",
       "| 279 |  1.10457124 | \n",
       "| 258 |  0.10423200 | \n",
       "| 98 |  0.34771643 | \n",
       "| 118 | -0.14151007 | \n",
       "\n",
       "\n"
      ],
      "text/plain": [
       "    res        \n",
       "148 -0.08728234\n",
       "18  -0.48971392\n",
       "279  1.10457124\n",
       "258  0.10423200\n",
       "98   0.34771643\n",
       "118 -0.14151007"
      ]
     },
     "metadata": {},
     "output_type": "display_data"
    }
   ],
   "source": [
    "# Grab residuals\n",
    "res <- residuals(model)\n",
    "\n",
    "# Convert to DataFrame for gglpot\n",
    "res <- as.data.frame(res)\n",
    "head(res)"
   ]
  },
  {
   "cell_type": "code",
   "execution_count": 17,
   "metadata": {
    "collapsed": false
   },
   "outputs": [
    {
     "name": "stderr",
     "output_type": "stream",
     "text": [
      "`stat_bin()` using `bins = 30`. Pick better value with `binwidth`.\n"
     ]
    },
    {
     "data": {},
     "metadata": {},
     "output_type": "display_data"
    },
    {
     "data": {
      "image/png": "[encoded data removed]",
      "text/plain": [
       "plot without title"
      ]
     },
     "metadata": {},
     "output_type": "display_data"
    }
   ],
   "source": [
    "library(ggplot2)\n",
    "# Histogram of residuals\n",
    "ggplot(res,aes(res)) +  geom_histogram(fill='blue',alpha=0.5)"
   ]
  },
  {
   "cell_type": "markdown",
   "metadata": {},
   "source": [
    "### Training with all features"
   ]
  },
  {
   "cell_type": "code",
   "execution_count": 18,
   "metadata": {
    "collapsed": false
   },
   "outputs": [
    {
     "name": "stdout",
     "output_type": "stream",
     "text": [
      "[1] 5.094049\n"
     ]
    },
    {
     "data": {
      "text/html": [
       "2.25700009537469"
      ],
      "text/latex": [
       "2.25700009537469"
      ],
      "text/markdown": [
       "2.25700009537469"
      ],
      "text/plain": [
       "[1] 2.257"
      ]
     },
     "metadata": {},
     "output_type": "display_data"
    },
    {
     "data": {
      "text/html": [
       "0.742914871916875"
      ],
      "text/latex": [
       "0.742914871916875"
      ],
      "text/markdown": [
       "0.742914871916875"
      ],
      "text/plain": [
       "[1] 0.7429149"
      ]
     },
     "metadata": {},
     "output_type": "display_data"
    }
   ],
   "source": [
    "model <- lm(G3 ~ .,training)\n",
    "G3.predictions <- predict(model,testing)\n",
    "\n",
    "results <- cbind(G3.predictions,testing$G3) \n",
    "colnames(results) <- c('pred','real')\n",
    "results <- as.data.frame(results)\n",
    "\n",
    "to_zero <- function(x){\n",
    "    if  (x < 0){\n",
    "        return(0)\n",
    "    }else{\n",
    "        return(x)\n",
    "    }\n",
    "}\n",
    "\n",
    "results$pred <- sapply(results$pred,to_zero)\n",
    "\n",
    "mse <- mean((results$real-results$pred)^2)\n",
    "print(mse)\n",
    "\n",
    "mse^0.5\n",
    "\n",
    "SSE = sum((results$pred - results$real)^2)\n",
    "SST = sum( (mean(df$G3) - results$real)^2)\n",
    "\n",
    "R2 = 1 - SSE/SST\n",
    "R2"
   ]
  },
  {
   "cell_type": "markdown",
   "metadata": {},
   "source": [
    "### Training with some features\n",
    "As seen above, failures, G2 and G1 features are the mode coefficient respectively."
   ]
  },
  {
   "cell_type": "code",
   "execution_count": 26,
   "metadata": {
    "collapsed": false
   },
   "outputs": [
    {
     "data": {
      "text/plain": [
       "\n",
       "Call:\n",
       "lm(formula = G3 ~ failures + G2, data = training)\n",
       "\n",
       "Residuals:\n",
       "    Min      1Q  Median      3Q     Max \n",
       "-9.1936 -0.1750  0.0573  0.9411  4.3820 \n",
       "\n",
       "Coefficients:\n",
       "            Estimate Std. Error t value Pr(>|t|)    \n",
       "(Intercept)  -0.4444     0.4239  -1.048    0.296    \n",
       "failures     -0.7491     0.1746  -4.291  2.8e-05 ***\n",
       "G2            1.0387     0.0357  29.093  < 2e-16 ***\n",
       "---\n",
       "Signif. codes:  0 ‘***’ 0.001 ‘**’ 0.01 ‘*’ 0.05 ‘.’ 0.1 ‘ ’ 1\n",
       "\n",
       "Residual standard error: 1.813 on 194 degrees of freedom\n",
       "Multiple R-squared:  0.8531,\tAdjusted R-squared:  0.8516 \n",
       "F-statistic: 563.5 on 2 and 194 DF,  p-value: < 2.2e-16\n"
      ]
     },
     "metadata": {},
     "output_type": "display_data"
    },
    {
     "name": "stdout",
     "output_type": "stream",
     "text": [
      "[1] 4.436135\n"
     ]
    },
    {
     "data": {
      "text/html": [
       "2.1062133763494"
      ],
      "text/latex": [
       "2.1062133763494"
      ],
      "text/markdown": [
       "2.1062133763494"
      ],
      "text/plain": [
       "[1] 2.106213"
      ]
     },
     "metadata": {},
     "output_type": "display_data"
    },
    {
     "data": {
      "text/html": [
       "0.776118332695599"
      ],
      "text/latex": [
       "0.776118332695599"
      ],
      "text/markdown": [
       "0.776118332695599"
      ],
      "text/plain": [
       "[1] 0.7761183"
      ]
     },
     "metadata": {},
     "output_type": "display_data"
    }
   ],
   "source": [
    "# using only failures and G1\n",
    "model2 <- lm(G3 ~ failures + G2,training)\n",
    "summary(model2)\n",
    "\n",
    "G3.predictions <- predict(model2,testing)\n",
    "\n",
    "results <- cbind(G3.predictions,testing$G3) \n",
    "colnames(results) <- c('pred','real')\n",
    "results <- as.data.frame(results)\n",
    "\n",
    "to_zero <- function(x){\n",
    "    if  (x < 0){\n",
    "        return(0)\n",
    "    }else{\n",
    "        return(x)\n",
    "    }\n",
    "}\n",
    "\n",
    "results$pred <- sapply(results$pred,to_zero)\n",
    "\n",
    "mse <- mean((results$real-results$pred)^2)\n",
    "print(mse)\n",
    "\n",
    "mse^0.5\n",
    "\n",
    "SSE = sum((results$pred - results$real)^2)\n",
    "SST = sum( (mean(df$G3) - results$real)^2)\n",
    "\n",
    "R2 = 1 - SSE/SST\n",
    "R2"
   ]
  },
  {
   "cell_type": "code",
   "execution_count": 28,
   "metadata": {
    "collapsed": false
   },
   "outputs": [
    {
     "data": {
      "text/plain": [
       "\n",
       "Call:\n",
       "lm(formula = G3 ~ failures + G1 + G2, data = training)\n",
       "\n",
       "Residuals:\n",
       "    Min      1Q  Median      3Q     Max \n",
       "-9.1883 -0.2716  0.0993  0.9665  4.3500 \n",
       "\n",
       "Coefficients:\n",
       "            Estimate Std. Error t value Pr(>|t|)    \n",
       "(Intercept) -0.69750    0.49930  -1.397 0.164030    \n",
       "failures    -0.70961    0.17937  -3.956 0.000107 ***\n",
       "G1           0.07603    0.07919   0.960 0.338209    \n",
       "G2           0.98351    0.06768  14.531  < 2e-16 ***\n",
       "---\n",
       "Signif. codes:  0 ‘***’ 0.001 ‘**’ 0.01 ‘*’ 0.05 ‘.’ 0.1 ‘ ’ 1\n",
       "\n",
       "Residual standard error: 1.813 on 193 degrees of freedom\n",
       "Multiple R-squared:  0.8538,\tAdjusted R-squared:  0.8516 \n",
       "F-statistic: 375.8 on 3 and 193 DF,  p-value: < 2.2e-16\n"
      ]
     },
     "metadata": {},
     "output_type": "display_data"
    },
    {
     "name": "stdout",
     "output_type": "stream",
     "text": [
      "[1] 4.36317\n"
     ]
    },
    {
     "data": {
      "text/html": [
       "2.08882030815564"
      ],
      "text/latex": [
       "2.08882030815564"
      ],
      "text/markdown": [
       "2.08882030815564"
      ],
      "text/plain": [
       "[1] 2.08882"
      ]
     },
     "metadata": {},
     "output_type": "display_data"
    },
    {
     "data": {
      "text/html": [
       "0.779800685972798"
      ],
      "text/latex": [
       "0.779800685972798"
      ],
      "text/markdown": [
       "0.779800685972798"
      ],
      "text/plain": [
       "[1] 0.7798007"
      ]
     },
     "metadata": {},
     "output_type": "display_data"
    }
   ],
   "source": [
    "# using only failures, G2 and G1\n",
    "model3 <- lm(G3 ~ failures + G1 + G2,training)\n",
    "summary(model3)\n",
    "\n",
    "G3.predictions <- predict(model3,testing)\n",
    "\n",
    "results <- cbind(G3.predictions,testing$G3) \n",
    "colnames(results) <- c('pred','real')\n",
    "results <- as.data.frame(results)\n",
    "\n",
    "to_zero <- function(x){\n",
    "    if  (x < 0){\n",
    "        return(0)\n",
    "    }else{\n",
    "        return(x)\n",
    "    }\n",
    "}\n",
    "\n",
    "results$pred <- sapply(results$pred,to_zero)\n",
    "\n",
    "mse <- mean((results$real-results$pred)^2)\n",
    "print(mse)\n",
    "\n",
    "mse^0.5\n",
    "\n",
    "SSE = sum((results$pred - results$real)^2)\n",
    "SST = sum( (mean(df$G3) - results$real)^2)\n",
    "\n",
    "R2 = 1 - SSE/SST\n",
    "R2"
   ]
  },
  {
   "cell_type": "code",
   "execution_count": null,
   "metadata": {
    "collapsed": true
   },
   "outputs": [],
   "source": []
  }
 ],
 "metadata": {
  "anaconda-cloud": {},
  "kernelspec": {
   "display_name": "R",
   "language": "R",
   "name": "ir"
  },
  "language_info": {
   "codemirror_mode": "r",
   "file_extension": ".r",
   "mimetype": "text/x-r-source",
   "name": "R",
   "pygments_lexer": "r",
   "version": "3.3.2"
  }
 },
 "nbformat": 4,
 "nbformat_minor": 1
}
