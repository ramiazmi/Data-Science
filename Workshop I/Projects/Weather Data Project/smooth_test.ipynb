{
 "cells": [
  {
   "cell_type": "code",
   "execution_count": 10,
   "metadata": {
    "collapsed": true
   },
   "outputs": [],
   "source": [
    "import numpy as np\n",
    "import matplotlib.pyplot as plt\n",
    "from scipy.interpolate import spline\n",
    "\n",
    "# Reference: https://www.youtube.com/watch?v=uSB8UBrbMfk"
   ]
  },
  {
   "cell_type": "code",
   "execution_count": 11,
   "metadata": {
    "collapsed": false
   },
   "outputs": [
    {
     "data": {
      "image/png": "[encoded data removed]",
      "text/plain": [
       "<matplotlib.figure.Figure at 0x114d3db00>"
      ]
     },
     "metadata": {},
     "output_type": "display_data"
    },
    {
     "name": "stdout",
     "output_type": "stream",
     "text": [
      "[ 1.          1.01003344  1.02006689  1.03010033  1.04013378  1.05016722\n",
      "  1.06020067  1.07023411  1.08026756  1.090301    1.10033445  1.11036789\n",
      "  1.12040134  1.13043478  1.14046823  1.15050167  1.16053512  1.17056856\n",
      "  1.18060201  1.19063545  1.2006689   1.21070234  1.22073579  1.23076923\n",
      "  1.24080268  1.25083612  1.26086957  1.27090301  1.28093645  1.2909699\n",
      "  1.30100334  1.31103679  1.32107023  1.33110368  1.34113712  1.35117057\n",
      "  1.36120401  1.37123746  1.3812709   1.39130435  1.40133779  1.41137124\n",
      "  1.42140468  1.43143813  1.44147157  1.45150502  1.46153846  1.47157191\n",
      "  1.48160535  1.4916388   1.50167224  1.51170569  1.52173913  1.53177258\n",
      "  1.54180602  1.55183946  1.56187291  1.57190635  1.5819398   1.59197324\n",
      "  1.60200669  1.61204013  1.62207358  1.63210702  1.64214047  1.65217391\n",
      "  1.66220736  1.6722408   1.68227425  1.69230769  1.70234114  1.71237458\n",
      "  1.72240803  1.73244147  1.74247492  1.75250836  1.76254181  1.77257525\n",
      "  1.7826087   1.79264214  1.80267559  1.81270903  1.82274247  1.83277592\n",
      "  1.84280936  1.85284281  1.86287625  1.8729097   1.88294314  1.89297659\n",
      "  1.90301003  1.91304348  1.92307692  1.93311037  1.94314381  1.95317726\n",
      "  1.9632107   1.97324415  1.98327759  1.99331104  2.00334448  2.01337793\n",
      "  2.02341137  2.03344482  2.04347826  2.05351171  2.06354515  2.0735786\n",
      "  2.08361204  2.09364548  2.10367893  2.11371237  2.12374582  2.13377926\n",
      "  2.14381271  2.15384615  2.1638796   2.17391304  2.18394649  2.19397993\n",
      "  2.20401338  2.21404682  2.22408027  2.23411371  2.24414716  2.2541806\n",
      "  2.26421405  2.27424749  2.28428094  2.29431438  2.30434783  2.31438127\n",
      "  2.32441472  2.33444816  2.34448161  2.35451505  2.36454849  2.37458194\n",
      "  2.38461538  2.39464883  2.40468227  2.41471572  2.42474916  2.43478261\n",
      "  2.44481605  2.4548495   2.46488294  2.47491639  2.48494983  2.49498328\n",
      "  2.50501672  2.51505017  2.52508361  2.53511706  2.5451505   2.55518395\n",
      "  2.56521739  2.57525084  2.58528428  2.59531773  2.60535117  2.61538462\n",
      "  2.62541806  2.63545151  2.64548495  2.65551839  2.66555184  2.67558528\n",
      "  2.68561873  2.69565217  2.70568562  2.71571906  2.72575251  2.73578595\n",
      "  2.7458194   2.75585284  2.76588629  2.77591973  2.78595318  2.79598662\n",
      "  2.80602007  2.81605351  2.82608696  2.8361204   2.84615385  2.85618729\n",
      "  2.86622074  2.87625418  2.88628763  2.89632107  2.90635452  2.91638796\n",
      "  2.9264214   2.93645485  2.94648829  2.95652174  2.96655518  2.97658863\n",
      "  2.98662207  2.99665552  3.00668896  3.01672241  3.02675585  3.0367893\n",
      "  3.04682274  3.05685619  3.06688963  3.07692308  3.08695652  3.09698997\n",
      "  3.10702341  3.11705686  3.1270903   3.13712375  3.14715719  3.15719064\n",
      "  3.16722408  3.17725753  3.18729097  3.19732441  3.20735786  3.2173913\n",
      "  3.22742475  3.23745819  3.24749164  3.25752508  3.26755853  3.27759197\n",
      "  3.28762542  3.29765886  3.30769231  3.31772575  3.3277592   3.33779264\n",
      "  3.34782609  3.35785953  3.36789298  3.37792642  3.38795987  3.39799331\n",
      "  3.40802676  3.4180602   3.42809365  3.43812709  3.44816054  3.45819398\n",
      "  3.46822742  3.47826087  3.48829431  3.49832776  3.5083612   3.51839465\n",
      "  3.52842809  3.53846154  3.54849498  3.55852843  3.56856187  3.57859532\n",
      "  3.58862876  3.59866221  3.60869565  3.6187291   3.62876254  3.63879599\n",
      "  3.64882943  3.65886288  3.66889632  3.67892977  3.68896321  3.69899666\n",
      "  3.7090301   3.71906355  3.72909699  3.73913043  3.74916388  3.75919732\n",
      "  3.76923077  3.77926421  3.78929766  3.7993311   3.80936455  3.81939799\n",
      "  3.82943144  3.83946488  3.84949833  3.85953177  3.86956522  3.87959866\n",
      "  3.88963211  3.89966555  3.909699    3.91973244  3.92976589  3.93979933\n",
      "  3.94983278  3.95986622  3.96989967  3.97993311  3.98996656  4.        ]\n"
     ]
    },
    {
     "data": {
      "image/png": "[encoded data removed]",
      "text/plain": [
       "<matplotlib.figure.Figure at 0x114d3db38>"
      ]
     },
     "metadata": {},
     "output_type": "display_data"
    }
   ],
   "source": [
    "x = np.array([1, 2, 3, 4])\n",
    "y = np.array([1, 2, 8, 12])\n",
    "_=plt.plot(x, y)\n",
    "plt.show()\n",
    "x_smooth = np.linspace(x.min(), x.max(), 300)\n",
    "print(x_smooth)\n",
    "y_smooth = spline(x, y, x_smooth)\n",
    "_=plt.plot(x_smooth, y_smooth)\n",
    "plt.show()"
   ]
  },
  {
   "cell_type": "code",
   "execution_count": 12,
   "metadata": {
    "collapsed": false
   },
   "outputs": [
    {
     "data": {
      "text/plain": [
       "array([ 0.1,  0.1,  0.1,  0.1,  0.1,  0.1,  0.1,  0.1,  0.1,  0.1])"
      ]
     },
     "execution_count": 12,
     "metadata": {},
     "output_type": "execute_result"
    }
   ],
   "source": [
    "scale = 10\n",
    "np.ones(scale)/scale"
   ]
  },
  {
   "cell_type": "code",
   "execution_count": 13,
   "metadata": {
    "collapsed": false
   },
   "outputs": [
    {
     "data": {
      "text/plain": [
       "array([0, 1, 2, 3, 4, 5, 6, 7, 8, 9])"
      ]
     },
     "execution_count": 13,
     "metadata": {},
     "output_type": "execute_result"
    }
   ],
   "source": [
    "x = np.arange(10)\n",
    "x"
   ]
  },
  {
   "cell_type": "code",
   "execution_count": 14,
   "metadata": {
    "collapsed": false
   },
   "outputs": [
    {
     "data": {
      "text/plain": [
       "array([8, 9, 0, 1, 2, 3, 4, 5, 6, 7])"
      ]
     },
     "execution_count": 14,
     "metadata": {},
     "output_type": "execute_result"
    }
   ],
   "source": [
    "np.roll(x, 2)"
   ]
  },
  {
   "cell_type": "code",
   "execution_count": 15,
   "metadata": {
    "collapsed": false
   },
   "outputs": [
    {
     "data": {
      "text/plain": [
       "2000-01-01   -1.178287\n",
       "2000-01-02   -0.563943\n",
       "2000-01-03   -0.378890\n",
       "2000-01-04   -1.715334\n",
       "2000-01-05    1.608475\n",
       "2000-01-06    0.355802\n",
       "2000-01-07   -2.106940\n",
       "2000-01-08   -1.218478\n",
       "2000-01-09    0.183687\n",
       "2000-01-10   -0.422061\n",
       "Freq: D, dtype: float64"
      ]
     },
     "execution_count": 15,
     "metadata": {},
     "output_type": "execute_result"
    }
   ],
   "source": [
    "import pandas as pd\n",
    "ser = pd.Series(np.random.randn(10), index=pd.date_range('1/1/2000', periods=10))\n",
    "ser\n"
   ]
  },
  {
   "cell_type": "code",
   "execution_count": 16,
   "metadata": {
    "collapsed": false
   },
   "outputs": [
    {
     "data": {
      "text/plain": [
       "2000-01-01         NaN\n",
       "2000-01-02         NaN\n",
       "2000-01-03         NaN\n",
       "2000-01-04         NaN\n",
       "2000-01-05   -0.585004\n",
       "2000-01-06   -0.321664\n",
       "2000-01-07   -0.042163\n",
       "2000-01-08   -0.318149\n",
       "2000-01-09   -0.694890\n",
       "2000-01-10   -0.840911\n",
       "Freq: D, dtype: float64"
      ]
     },
     "execution_count": 16,
     "metadata": {},
     "output_type": "execute_result"
    }
   ],
   "source": [
    "ser.rolling(window=5, win_type='triang').mean()"
   ]
  },
  {
   "cell_type": "code",
   "execution_count": 17,
   "metadata": {
    "collapsed": true
   },
   "outputs": [],
   "source": [
    "# def plot_smoothed(data,win=10):\n",
    "#     x = data['value']\n",
    "#     y = data['date']\n",
    "#     x_smooth = x.rolling(center=True,window=win).mean()\n",
    "#     plt.plot(y,x_smooth)\n",
    "#     plt.xlabel('Years', fontsize=8)\n",
    "#     plt.ylabel('Temperature', fontsize=8)\n",
    "# from scipy.interpolate import spline\n",
    "# def plot_smoothed(data, scale):\n",
    "#     x = data['value']\n",
    "#     y = data['date']\n",
    "#     print(data)\n",
    "#     x_smooth = np.linspace(x.min(), x.max(), scale)\n",
    "#     print(x_smooth)\n",
    "#     y_smooth = spline(x, y, x_smooth)\n",
    "#     print(y_smooth)\n",
    "# #     _=plt.plot(y_smooth, x_smooth)\n",
    "# #     _=plt.plot(y, x)"
   ]
  },
  {
   "cell_type": "code",
   "execution_count": null,
   "metadata": {
    "collapsed": true
   },
   "outputs": [],
   "source": []
  }
 ],
 "metadata": {
  "anaconda-cloud": {},
  "kernelspec": {
   "display_name": "Python [default]",
   "language": "python",
   "name": "python3"
  },
  "language_info": {
   "codemirror_mode": {
    "name": "ipython",
    "version": 3
   },
   "file_extension": ".py",
   "mimetype": "text/x-python",
   "name": "python",
   "nbconvert_exporter": "python",
   "pygments_lexer": "ipython3",
   "version": "3.5.2"
  }
 },
 "nbformat": 4,
 "nbformat_minor": 1
}
